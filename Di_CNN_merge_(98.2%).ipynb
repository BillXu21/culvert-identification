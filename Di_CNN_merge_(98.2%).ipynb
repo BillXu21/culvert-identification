{
  "cells": [
    {
      "cell_type": "markdown",
      "metadata": {
        "id": "view-in-github",
        "colab_type": "text"
      },
      "source": [
        "<a href=\"https://colab.research.google.com/github/BillXu21/culvert-identification/blob/main/Di_CNN_merge_(98.2%25).ipynb\" target=\"_parent\"><img src=\"https://colab.research.google.com/assets/colab-badge.svg\" alt=\"Open In Colab\"/></a>"
      ]
    },
    {
      "cell_type": "code",
      "execution_count": 78,
      "metadata": {
        "id": "Xb9mOho-4Jzu"
      },
      "outputs": [],
      "source": [
        "# !pip install rasterio"
      ]
    },
    {
      "cell_type": "code",
      "execution_count": 78,
      "metadata": {
        "id": "Aj8YPGiqUE2W"
      },
      "outputs": [],
      "source": []
    },
    {
      "cell_type": "code",
      "execution_count": 79,
      "metadata": {
        "colab": {
          "base_uri": "https://localhost:8080/"
        },
        "id": "e4-tHPbV7Yz7",
        "outputId": "3d995991-69c1-447b-a17b-ebb3c310be7a"
      },
      "outputs": [
        {
          "output_type": "stream",
          "name": "stdout",
          "text": [
            "3.10.12 (main, Nov 20 2023, 15:14:05) [GCC 11.4.0]\n"
          ]
        }
      ],
      "source": [
        "import sys\n",
        "print(sys.version)"
      ]
    },
    {
      "cell_type": "code",
      "execution_count": 80,
      "metadata": {
        "colab": {
          "base_uri": "https://localhost:8080/"
        },
        "id": "z1aSvmuWO8gT",
        "outputId": "07d76d0c-3270-43bd-8d7a-ed03fc2ddf27"
      },
      "outputs": [
        {
          "output_type": "stream",
          "name": "stdout",
          "text": [
            "2.15.0\n"
          ]
        }
      ],
      "source": [
        "import tensorflow as tf\n",
        "print(tf.__version__)"
      ]
    },
    {
      "cell_type": "code",
      "execution_count": 81,
      "metadata": {
        "id": "IitySReDO9VA"
      },
      "outputs": [],
      "source": [
        "import os\n",
        "os.environ[\"CUDA_VISIBLE_DEVICES\"] = \"0\"\n",
        "\n",
        "from skimage import io\n",
        "import glob\n",
        "\n",
        "from sklearn.model_selection import train_test_split\n",
        "# import tensorflow as tf\n",
        "\n",
        "import tensorflow as tf\n",
        "\n",
        "import numpy as np\n",
        "import pandas as pd\n",
        "\n",
        "\n",
        "#from tensorflow.keras.callbacks import TensorBoard\n",
        "from tensorflow.compat.v1.keras.models import Sequential\n",
        "from tensorflow.compat.v1.keras.layers import *\n",
        "from tensorflow.compat.v1.keras.layers import BatchNormalization\n",
        "from tensorflow.compat.v1.keras.layers import Dense, Dropout, Flatten, Activation\n",
        "from tensorflow.compat.v1.keras.layers import Convolution2D, MaxPooling2D, AveragePooling2D\n",
        "from tensorflow.compat.v1.keras.optimizers import Adadelta, Adam\n",
        "from tensorflow.compat.v1.keras.callbacks import ModelCheckpoint\n",
        "from tensorflow import keras\n",
        "\n",
        "from sklearn.preprocessing import MinMaxScaler\n",
        "\n",
        "#from tensorflow.keras import callbacks\n",
        "import matplotlib.pyplot as plt\n",
        "\n",
        "tf.compat.v1.disable_eager_execution()"
      ]
    },
    {
      "cell_type": "code",
      "execution_count": 82,
      "metadata": {
        "colab": {
          "base_uri": "https://localhost:8080/"
        },
        "id": "8lB4bvyaYbl3",
        "outputId": "d70bde03-e826-494d-c2f5-2675705d5ff9"
      },
      "outputs": [
        {
          "output_type": "stream",
          "name": "stdout",
          "text": [
            "Drive already mounted at /content/drive; to attempt to forcibly remount, call drive.mount(\"/content/drive\", force_remount=True).\n"
          ]
        }
      ],
      "source": [
        "from google.colab import drive\n",
        "drive.mount('/content/drive')"
      ]
    },
    {
      "cell_type": "code",
      "execution_count": 83,
      "metadata": {
        "id": "jlHDhDKcPCnP"
      },
      "outputs": [],
      "source": [
        "path='/content/drive/MyDrive/WFBBDEM/WFBBDEM+/'   #DEM\n",
        "\n",
        "# using one watershed to train model, 3 of them to test\n",
        "pathTrain='WFBBDEM_Train/'\n",
        "pathTest1='WFBBDEM_Test/'\n",
        "ca = 'CADEM/'\n",
        "il = 'ILDEM/'\n",
        "nd = 'NDDEM/'\n",
        "newfbb = 'NEWFBB_DEM/'"
      ]
    },
    {
      "cell_type": "code",
      "execution_count": 83,
      "metadata": {
        "id": "z_9MeDbA94s6"
      },
      "outputs": [],
      "source": []
    },
    {
      "cell_type": "code",
      "execution_count": 84,
      "metadata": {
        "id": "Q1dZM1okU_Ay"
      },
      "outputs": [],
      "source": [
        "# import rasterio as rio\n",
        "# def read_img(path):\n",
        "#     cate=[path+x for x in os.listdir(path) if os.path.isdir(path+x)] # get F,T folder\n",
        "#     imgs=[]\n",
        "#     labels=[]\n",
        "#     imgs_name=[]\n",
        "#     for idx,folder in enumerate(cate): # idx-> 0:F; 1:T; folder-> F,T\n",
        "#         print(idx,folder)\n",
        "#         for im in glob.glob(folder+\"/*.tif\"):\n",
        "#             im = im.replace('\\\\','/')\n",
        "# #            print('reading the images:%s'%(im))\n",
        "\n",
        "#             img_name=os.path.basename(im)\n",
        "#             img_name=os.path.splitext(img_name)[0] # get file name\n",
        "\n",
        "#             #img=io.imread(im)\n",
        "#             with rio.open(im) as i:\n",
        "#               img = i.read()\n",
        "#             # Normalize the dataset-MaxMin\n",
        "#             img = np.squeeze(img)\n",
        "#             scaler = MinMaxScaler(feature_range=(0, 1))\n",
        "#             img = scaler.fit_transform(img)\n",
        "\n",
        "#             imgs.append(img)\n",
        "#             labels.append(idx)\n",
        "#             imgs_name.append(img_name) # image name\n",
        "\n",
        "#     return np.asarray(imgs,np.float32),np.asarray(labels,np.int32), np.asarray(imgs_name)\n",
        "\n",
        "# data1,label1,name1=read_img('/content/drive/MyDrive/WFBBDEM/WFBBDEM+/NEWFBB_DEM/TPI_21_DATA/')"
      ]
    },
    {
      "cell_type": "code",
      "execution_count": 84,
      "metadata": {
        "id": "p4NVfVChYbUw"
      },
      "outputs": [],
      "source": []
    },
    {
      "cell_type": "code",
      "execution_count": 85,
      "metadata": {
        "id": "GHa-R4jfxEfh"
      },
      "outputs": [],
      "source": [
        "# import pickle\n",
        "# with open('/content/drive/MyDrive/WFBBDEM/WFBBDEM+/NEWFBB_DEM/TPI_21_DATA/data','wb') as fin: pickle.dump(data1,fin)\n",
        "# with open('/content/drive/MyDrive/WFBBDEM/WFBBDEM+/NEWFBB_DEM/TPI_21_DATA/label','wb') as fin: pickle.dump(label1,fin)\n",
        "# with open('/content/drive/MyDrive/WFBBDEM/WFBBDEM+/NEWFBB_DEM/TPI_21_DATA/name','wb') as fin: pickle.dump(name1,fin)"
      ]
    },
    {
      "cell_type": "code",
      "execution_count": 86,
      "metadata": {
        "id": "R2l3OoRIwGJw"
      },
      "outputs": [],
      "source": [
        "import pickle\n",
        "with open('/content/drive/MyDrive/WFBBDEM/WFBBDEM+/NEWFBB_DEM/TPI_21_DATA/data','rb') as fin: data1 = pickle.load(fin)\n",
        "with open('/content/drive/MyDrive/WFBBDEM/WFBBDEM+/NEWFBB_DEM/TPI_21_DATA/label','rb') as fin: label1 = pickle.load(fin)\n",
        "with open('/content/drive/MyDrive/WFBBDEM/WFBBDEM+/NEWFBB_DEM/TPI_21_DATA/name','rb') as fin: name1 = pickle.load(fin)\n",
        "\n",
        "with open('/content/drive/MyDrive/WFBBDEM/WFBBDEM+/NEWFBB_DEM/TPI_3_DATA/data1','rb') as fin: data2 = pickle.load(fin)\n",
        "with open('/content/drive/MyDrive/WFBBDEM/WFBBDEM+/NEWFBB_DEM/TPI_3_DATA/label1','rb') as fin: label2 = pickle.load(fin)\n",
        "with open('/content/drive/MyDrive/WFBBDEM/WFBBDEM+/NEWFBB_DEM/TPI_3_DATA/name1','rb') as fin: name2 = pickle.load(fin)\n",
        "\n",
        "with open('/content/drive/MyDrive/WFBBDEM/WFBBDEM+/NEWFBB_DEM/Cuvature/data','rb') as fin: data3 = pickle.load(fin)\n",
        "with open('/content/drive/MyDrive/WFBBDEM/WFBBDEM+/NEWFBB_DEM/Cuvature/label',  'rb') as fin: label3 = pickle.load(fin)\n",
        "with open('/content/drive/MyDrive/WFBBDEM/WFBBDEM+/NEWFBB_DEM/Cuvature/name','rb') as fin: name3 = pickle.load(fin)\n",
        "\n",
        "with open('/content/drive/MyDrive/WFBBDEM/WFBBDEM+/NEWFBB_DEM/pos/data','rb') as fin: data4 = pickle.load(fin)\n",
        "with open('/content/drive/MyDrive/WFBBDEM/WFBBDEM+/NEWFBB_DEM/pos/label','rb') as fin: label4 = pickle.load(fin)\n",
        "with open('/content/drive/MyDrive/WFBBDEM/WFBBDEM+/NEWFBB_DEM/pos/name','rb') as fin: name4 = pickle.load(fin)\n",
        "\n",
        "with open('/content/drive/MyDrive/WFBBDEM/WFBBDEM+/NEWFBB_DEM/NEWFBB_DEM/data','rb') as fin: data5 = pickle.load(fin)\n",
        "with open('/content/drive/MyDrive/WFBBDEM/WFBBDEM+/NEWFBB_DEM/NEWFBB_DEM/label','rb') as fin: label5 = pickle.load(fin)\n",
        "with open('/content/drive/MyDrive/WFBBDEM/WFBBDEM+/NEWFBB_DEM/NEWFBB_DEM/name','rb') as fin: name5 = pickle.load(fin)"
      ]
    },
    {
      "cell_type": "code",
      "execution_count": 86,
      "metadata": {
        "id": "JlXZGMBZ5q5C"
      },
      "outputs": [],
      "source": []
    },
    {
      "cell_type": "code",
      "execution_count": 87,
      "metadata": {
        "id": "ZfMMT_xBus7x"
      },
      "outputs": [],
      "source": [
        "datas = [[data1,label1,name1],[data2,label2,name2],[data3,label3,name3],[data4,label4,name4],[data5,label5,name5]]"
      ]
    },
    {
      "cell_type": "code",
      "execution_count": 87,
      "metadata": {
        "id": "WYP4P6g30exU"
      },
      "outputs": [],
      "source": []
    },
    {
      "cell_type": "code",
      "execution_count": 88,
      "metadata": {
        "id": "5Ggf632H0Ym7"
      },
      "outputs": [],
      "source": [
        "#data=np.expand_dims(data,3) # add channel dimension, 4D\n",
        "temp = []\n",
        "for data,label,name in datas:\n",
        "  #data = np.repeat(data[..., np.newaxis], 3, -1)\n",
        "\n",
        "  labelN=label.shape[0]\n",
        "\n",
        "\n",
        "  label_name=np.empty((labelN,2),dtype=int) # label + name\n",
        "  for i in range(labelN):\n",
        "      label_name[i,0]=label[i] # label\n",
        "      if (name[i].isdigit()):\n",
        "          name[i]=name[i]\n",
        "      else:\n",
        "          name[i]=name[i][1:] # only keep number, delete first letter\n",
        "      name[i] = name[i].split()[0]\n",
        "      label_name[i,1]=name[i]\n",
        "  temp.append([data,label,name,label_name])\n",
        "datas = temp"
      ]
    },
    {
      "cell_type": "code",
      "execution_count": 89,
      "metadata": {
        "id": "IceuyUd6PwRX"
      },
      "outputs": [],
      "source": [
        "data = []\n",
        "for i in datas:\n",
        "  temp = list(sorted(zip(*map(list,i)),key=lambda x:x[2]))\n",
        "  data.append(temp)\n",
        "datas = data"
      ]
    },
    {
      "cell_type": "code",
      "source": [],
      "metadata": {
        "id": "ZJHAgVYFen3a"
      },
      "execution_count": 89,
      "outputs": []
    },
    {
      "cell_type": "code",
      "execution_count": 90,
      "metadata": {
        "id": "Tp57KNqaBd0Z"
      },
      "outputs": [],
      "source": [
        "tt = list(zip(*datas))\n",
        "data = np.asarray([[i[0] for i in q] for q in tt])\n",
        "\n",
        "label_name = [q[0][3] for q in tt]"
      ]
    },
    {
      "cell_type": "code",
      "execution_count": 91,
      "metadata": {
        "id": "X0g8flSE5HaW",
        "colab": {
          "base_uri": "https://localhost:8080/"
        },
        "outputId": "bd32e44d-6891-412d-c563-d840fa140264"
      },
      "outputs": [
        {
          "output_type": "execute_result",
          "data": {
            "text/plain": [
              "(4044, 5, 100, 100)"
            ]
          },
          "metadata": {},
          "execution_count": 91
        }
      ],
      "source": [
        "data.shape"
      ]
    },
    {
      "cell_type": "code",
      "execution_count": 91,
      "metadata": {
        "id": "FChpf7J0vtCP"
      },
      "outputs": [],
      "source": []
    },
    {
      "cell_type": "code",
      "execution_count": 92,
      "metadata": {
        "id": "rkQC241_Q-1B"
      },
      "outputs": [],
      "source": [
        "train_data,test_data,train_label,test_label = train_test_split(data,label_name,test_size=0.2,stratify=label)"
      ]
    },
    {
      "cell_type": "code",
      "execution_count": 93,
      "metadata": {
        "id": "FuTEcvzz_Fwq",
        "colab": {
          "base_uri": "https://localhost:8080/"
        },
        "outputId": "1d980425-5b49-4242-c420-43b43da5d17e"
      },
      "outputs": [
        {
          "output_type": "execute_result",
          "data": {
            "text/plain": [
              "(3235, 5, 100, 100)"
            ]
          },
          "metadata": {},
          "execution_count": 93
        }
      ],
      "source": [
        "train_data.shape"
      ]
    },
    {
      "cell_type": "code",
      "execution_count": 94,
      "metadata": {
        "id": "7fByzn_P-9Nb"
      },
      "outputs": [],
      "source": [
        "# creat CNN model\n",
        "def createCNN():\n",
        "    inputs = [keras.layers.Input(shape = (100,100,1)) for i in range(5)]\n",
        "    merged = keras.layers.Concatenate()(inputs)\n",
        "    a = Convolution2D(128,3,3,padding='same')(merged)\n",
        "    b = BatchNormalization()(a)\n",
        "    c = Activation('relu')(b)\n",
        "    c = AveragePooling2D(pool_size=(2,2),padding='same')(c)\n",
        "    d = Dropout(0.3)(c)\n",
        "\n",
        "    a = Convolution2D(256,3,3,padding='same')(d)\n",
        "    b = BatchNormalization()(a)\n",
        "    c = Activation('relu')(b)\n",
        "    c = AveragePooling2D(pool_size=(2,2),padding='same')(c)\n",
        "    d = Dropout(0.3)(c)\n",
        "\n",
        "    a = Convolution2D(512,5,5,padding='same')(d)\n",
        "    b = BatchNormalization()(a)\n",
        "    c = Activation('relu')(b)\n",
        "    c = AveragePooling2D(pool_size=(2,2),padding='same')(c)\n",
        "    d = Dropout(0.3)(c)\n",
        "\n",
        "    a = Convolution2D(1024,5,5,padding='same')(d)\n",
        "    b = BatchNormalization()(a)\n",
        "    c = Activation('relu')(b)\n",
        "    c = AveragePooling2D(pool_size=(2,2),padding='same')(c)\n",
        "    l = Dropout(0.3)(c)\n",
        "\n",
        "    flat = Flatten()(l)\n",
        "\n",
        "    m = Dense(512,activation = 'relu')(flat)\n",
        "    n = Dropout(0.5)(m)\n",
        "    s = Dense(2,activation = 'softmax')(m)\n",
        "\n",
        "    model = keras.models.Model(inputs = inputs, outputs = s)\n",
        "\n",
        "    # model.summary()\n",
        "\n",
        "    return model"
      ]
    },
    {
      "cell_type": "code",
      "source": [
        "train_data.shape"
      ],
      "metadata": {
        "colab": {
          "base_uri": "https://localhost:8080/"
        },
        "id": "ookRZxHAtQii",
        "outputId": "64a9ad33-1c97-41a0-8c27-08d2fbe5cd75"
      },
      "execution_count": 95,
      "outputs": [
        {
          "output_type": "execute_result",
          "data": {
            "text/plain": [
              "(3235, 5, 100, 100)"
            ]
          },
          "metadata": {},
          "execution_count": 95
        }
      ]
    },
    {
      "cell_type": "code",
      "source": [
        "train_data = np.expand_dims(train_data,axis=4)"
      ],
      "metadata": {
        "id": "9zoBlQpPIvFd"
      },
      "execution_count": 96,
      "outputs": []
    },
    {
      "cell_type": "code",
      "source": [
        "train_label[0]"
      ],
      "metadata": {
        "colab": {
          "base_uri": "https://localhost:8080/"
        },
        "id": "9560E73YJeN9",
        "outputId": "4852e497-21d1-42d4-f305-cb7db92c5680"
      },
      "execution_count": 97,
      "outputs": [
        {
          "output_type": "execute_result",
          "data": {
            "text/plain": [
              "array([ 1, 25])"
            ]
          },
          "metadata": {},
          "execution_count": 97
        }
      ]
    },
    {
      "cell_type": "code",
      "source": [],
      "metadata": {
        "id": "lDzT7Q_tyfDR"
      },
      "execution_count": 97,
      "outputs": []
    },
    {
      "cell_type": "code",
      "execution_count": 126,
      "metadata": {
        "id": "8IvCqRb7Hi_W"
      },
      "outputs": [],
      "source": [
        "LEARNING_RATE = 1e-15\n",
        "BATCH_SIZE = 64\n",
        "EPOCHS = 20\n",
        "\n",
        "\n",
        "model = createCNN()\n",
        "\n",
        "model.load_weights('/content/drive/MyDrive/WFBBDEM/WFBBDEM+/NEWFBB_DEM/DiMergeCNN2.h5')\n",
        "\n",
        "model.compile(loss='sparse_categorical_crossentropy',\n",
        "              optimizer=Adam(lr=LEARNING_RATE),\n",
        "              metrics=['accuracy'])"
      ]
    },
    {
      "cell_type": "code",
      "execution_count": 126,
      "metadata": {
        "id": "LEvOhh6Q2X17"
      },
      "outputs": [],
      "source": []
    },
    {
      "cell_type": "code",
      "execution_count": 127,
      "metadata": {
        "id": "aTgSdRtFtNKL",
        "colab": {
          "base_uri": "https://localhost:8080/"
        },
        "outputId": "9b71c329-dfd5-4187-b900-4ed5211c8775"
      },
      "outputs": [
        {
          "output_type": "stream",
          "name": "stdout",
          "text": [
            "Model: \"model_4\"\n",
            "__________________________________________________________________________________________________\n",
            " Layer (type)                Output Shape                 Param #   Connected to                  \n",
            "==================================================================================================\n",
            " input_21 (InputLayer)       [(None, 100, 100, 1)]        0         []                            \n",
            "                                                                                                  \n",
            " input_22 (InputLayer)       [(None, 100, 100, 1)]        0         []                            \n",
            "                                                                                                  \n",
            " input_23 (InputLayer)       [(None, 100, 100, 1)]        0         []                            \n",
            "                                                                                                  \n",
            " input_24 (InputLayer)       [(None, 100, 100, 1)]        0         []                            \n",
            "                                                                                                  \n",
            " input_25 (InputLayer)       [(None, 100, 100, 1)]        0         []                            \n",
            "                                                                                                  \n",
            " concatenate_4 (Concatenate  (None, 100, 100, 5)          0         ['input_21[0][0]',            \n",
            " )                                                                   'input_22[0][0]',            \n",
            "                                                                     'input_23[0][0]',            \n",
            "                                                                     'input_24[0][0]',            \n",
            "                                                                     'input_25[0][0]']            \n",
            "                                                                                                  \n",
            " conv2d_16 (Conv2D)          (None, 34, 34, 128)          5888      ['concatenate_4[0][0]']       \n",
            "                                                                                                  \n",
            " batch_normalization_16 (Ba  (None, 34, 34, 128)          512       ['conv2d_16[0][0]']           \n",
            " tchNormalization)                                                                                \n",
            "                                                                                                  \n",
            " activation_16 (Activation)  (None, 34, 34, 128)          0         ['batch_normalization_16[0][0]\n",
            "                                                                    ']                            \n",
            "                                                                                                  \n",
            " average_pooling2d_16 (Aver  (None, 17, 17, 128)          0         ['activation_16[0][0]']       \n",
            " agePooling2D)                                                                                    \n",
            "                                                                                                  \n",
            " dropout_20 (Dropout)        (None, 17, 17, 128)          0         ['average_pooling2d_16[0][0]']\n",
            "                                                                                                  \n",
            " conv2d_17 (Conv2D)          (None, 6, 6, 256)            295168    ['dropout_20[0][0]']          \n",
            "                                                                                                  \n",
            " batch_normalization_17 (Ba  (None, 6, 6, 256)            1024      ['conv2d_17[0][0]']           \n",
            " tchNormalization)                                                                                \n",
            "                                                                                                  \n",
            " activation_17 (Activation)  (None, 6, 6, 256)            0         ['batch_normalization_17[0][0]\n",
            "                                                                    ']                            \n",
            "                                                                                                  \n",
            " average_pooling2d_17 (Aver  (None, 3, 3, 256)            0         ['activation_17[0][0]']       \n",
            " agePooling2D)                                                                                    \n",
            "                                                                                                  \n",
            " dropout_21 (Dropout)        (None, 3, 3, 256)            0         ['average_pooling2d_17[0][0]']\n",
            "                                                                                                  \n",
            " conv2d_18 (Conv2D)          (None, 1, 1, 512)            3277312   ['dropout_21[0][0]']          \n",
            "                                                                                                  \n",
            " batch_normalization_18 (Ba  (None, 1, 1, 512)            2048      ['conv2d_18[0][0]']           \n",
            " tchNormalization)                                                                                \n",
            "                                                                                                  \n",
            " activation_18 (Activation)  (None, 1, 1, 512)            0         ['batch_normalization_18[0][0]\n",
            "                                                                    ']                            \n",
            "                                                                                                  \n",
            " average_pooling2d_18 (Aver  (None, 1, 1, 512)            0         ['activation_18[0][0]']       \n",
            " agePooling2D)                                                                                    \n",
            "                                                                                                  \n",
            " dropout_22 (Dropout)        (None, 1, 1, 512)            0         ['average_pooling2d_18[0][0]']\n",
            "                                                                                                  \n",
            " conv2d_19 (Conv2D)          (None, 1, 1, 1024)           1310822   ['dropout_22[0][0]']          \n",
            "                                                          4                                       \n",
            "                                                                                                  \n",
            " batch_normalization_19 (Ba  (None, 1, 1, 1024)           4096      ['conv2d_19[0][0]']           \n",
            " tchNormalization)                                                                                \n",
            "                                                                                                  \n",
            " activation_19 (Activation)  (None, 1, 1, 1024)           0         ['batch_normalization_19[0][0]\n",
            "                                                                    ']                            \n",
            "                                                                                                  \n",
            " average_pooling2d_19 (Aver  (None, 1, 1, 1024)           0         ['activation_19[0][0]']       \n",
            " agePooling2D)                                                                                    \n",
            "                                                                                                  \n",
            " dropout_23 (Dropout)        (None, 1, 1, 1024)           0         ['average_pooling2d_19[0][0]']\n",
            "                                                                                                  \n",
            " flatten_4 (Flatten)         (None, 1024)                 0         ['dropout_23[0][0]']          \n",
            "                                                                                                  \n",
            " dense_8 (Dense)             (None, 512)                  524800    ['flatten_4[0][0]']           \n",
            "                                                                                                  \n",
            " dense_9 (Dense)             (None, 2)                    1026      ['dense_8[0][0]']             \n",
            "                                                                                                  \n",
            "==================================================================================================\n",
            "Total params: 17220098 (65.69 MB)\n",
            "Trainable params: 17216258 (65.67 MB)\n",
            "Non-trainable params: 3840 (15.00 KB)\n",
            "__________________________________________________________________________________________________\n"
          ]
        }
      ],
      "source": [
        "model.summary()"
      ]
    },
    {
      "cell_type": "code",
      "execution_count": 128,
      "metadata": {
        "colab": {
          "base_uri": "https://localhost:8080/"
        },
        "id": "xD0NF7XK5nFf",
        "outputId": "72d1c505-5b8d-48d7-9738-5dbe096408f2"
      },
      "outputs": [
        {
          "output_type": "execute_result",
          "data": {
            "text/plain": [
              "5623"
            ]
          },
          "metadata": {},
          "execution_count": 128
        }
      ],
      "source": [
        "import gc\n",
        "gc.collect()"
      ]
    },
    {
      "cell_type": "code",
      "execution_count": 128,
      "metadata": {
        "id": "AQuZ1grkGmmq"
      },
      "outputs": [],
      "source": []
    },
    {
      "cell_type": "code",
      "execution_count": 129,
      "metadata": {
        "id": "yixusNLjISRs"
      },
      "outputs": [],
      "source": [
        "from itertools import chain"
      ]
    },
    {
      "cell_type": "code",
      "execution_count": 130,
      "metadata": {
        "id": "F-0mGbovjyqE",
        "colab": {
          "base_uri": "https://localhost:8080/"
        },
        "outputId": "0b913148-ab69-47a5-c591-2e24c07beb3f"
      },
      "outputs": [
        {
          "output_type": "execute_result",
          "data": {
            "text/plain": [
              "(3235,)"
            ]
          },
          "metadata": {},
          "execution_count": 130
        }
      ],
      "source": [
        "np.asarray(train_label)[:,0].shape"
      ]
    },
    {
      "cell_type": "code",
      "execution_count": 131,
      "metadata": {
        "colab": {
          "base_uri": "https://localhost:8080/"
        },
        "id": "fNTZfDiiHmij",
        "outputId": "b7b86e5b-1e28-4a7c-d742-6dd2baab7f26"
      },
      "outputs": [
        {
          "output_type": "stream",
          "name": "stdout",
          "text": [
            "Train on 2588 samples, validate on 647 samples\n",
            "Epoch 1/20\n",
            "2588/2588 [==============================] - ETA: 0s - loss: 0.1400 - accuracy: 0.9471\n",
            "Epoch 1: val_accuracy improved from -inf to 0.98145, saving model to /content/drive/MyDrive/WFBBDEM/WFBBDEM+/NEWFBB_DEM/DiMergeCNN.h5\n",
            "2588/2588 [==============================] - 7s 3ms/sample - loss: 0.1400 - accuracy: 0.9471 - val_loss: 0.0736 - val_accuracy: 0.9815\n",
            "Epoch 2/20\n",
            "2560/2588 [============================>.] - ETA: 0s - loss: 0.1121 - accuracy: 0.9570\n",
            "Epoch 2: val_accuracy did not improve from 0.98145\n",
            "2588/2588 [==============================] - 3s 1ms/sample - loss: 0.1140 - accuracy: 0.9563 - val_loss: 0.0734 - val_accuracy: 0.9815\n",
            "Epoch 3/20\n",
            "2560/2588 [============================>.] - ETA: 0s - loss: 0.1402 - accuracy: 0.9512\n",
            "Epoch 3: val_accuracy did not improve from 0.98145\n",
            "2588/2588 [==============================] - 3s 1ms/sample - loss: 0.1408 - accuracy: 0.9509 - val_loss: 0.0732 - val_accuracy: 0.9815\n",
            "Epoch 4/20\n",
            "2588/2588 [==============================] - ETA: 0s - loss: 0.1346 - accuracy: 0.9478\n",
            "Epoch 4: val_accuracy did not improve from 0.98145\n",
            "2588/2588 [==============================] - 3s 1ms/sample - loss: 0.1346 - accuracy: 0.9478 - val_loss: 0.0732 - val_accuracy: 0.9815\n",
            "Epoch 5/20\n",
            "2588/2588 [==============================] - ETA: 0s - loss: 0.1335 - accuracy: 0.9509\n",
            "Epoch 5: val_accuracy did not improve from 0.98145\n",
            "2588/2588 [==============================] - 4s 1ms/sample - loss: 0.1335 - accuracy: 0.9509 - val_loss: 0.0735 - val_accuracy: 0.9815\n",
            "Epoch 6/20\n",
            "2560/2588 [============================>.] - ETA: 0s - loss: 0.1369 - accuracy: 0.9473\n",
            "Epoch 6: val_accuracy did not improve from 0.98145\n",
            "2588/2588 [==============================] - 3s 1ms/sample - loss: 0.1369 - accuracy: 0.9471 - val_loss: 0.0735 - val_accuracy: 0.9815\n",
            "Epoch 7/20\n",
            "2560/2588 [============================>.] - ETA: 0s - loss: 0.1358 - accuracy: 0.9496\n",
            "Epoch 7: val_accuracy did not improve from 0.98145\n",
            "2588/2588 [==============================] - 3s 1ms/sample - loss: 0.1356 - accuracy: 0.9494 - val_loss: 0.0733 - val_accuracy: 0.9815\n",
            "Epoch 8/20\n",
            "2560/2588 [============================>.] - ETA: 0s - loss: 0.1242 - accuracy: 0.9547\n",
            "Epoch 8: val_accuracy did not improve from 0.98145\n",
            "2588/2588 [==============================] - 3s 1ms/sample - loss: 0.1260 - accuracy: 0.9544 - val_loss: 0.0731 - val_accuracy: 0.9815\n",
            "Epoch 9/20\n",
            "2588/2588 [==============================] - ETA: 0s - loss: 0.1172 - accuracy: 0.9536\n",
            "Epoch 9: val_accuracy did not improve from 0.98145\n",
            "2588/2588 [==============================] - 3s 1ms/sample - loss: 0.1172 - accuracy: 0.9536 - val_loss: 0.0732 - val_accuracy: 0.9815\n",
            "Epoch 10/20\n",
            "2560/2588 [============================>.] - ETA: 0s - loss: 0.1310 - accuracy: 0.9492\n",
            "Epoch 10: val_accuracy did not improve from 0.98145\n",
            "2588/2588 [==============================] - 3s 1ms/sample - loss: 0.1302 - accuracy: 0.9494 - val_loss: 0.0732 - val_accuracy: 0.9815\n",
            "Epoch 11/20\n",
            "2560/2588 [============================>.] - ETA: 0s - loss: 0.1249 - accuracy: 0.9547\n",
            "Epoch 11: val_accuracy did not improve from 0.98145\n",
            "2588/2588 [==============================] - 3s 1ms/sample - loss: 0.1282 - accuracy: 0.9544 - val_loss: 0.0734 - val_accuracy: 0.9815\n",
            "Epoch 12/20\n",
            "2560/2588 [============================>.] - ETA: 0s - loss: 0.1402 - accuracy: 0.9500\n",
            "Epoch 12: val_accuracy did not improve from 0.98145\n",
            "2588/2588 [==============================] - 3s 1ms/sample - loss: 0.1402 - accuracy: 0.9502 - val_loss: 0.0733 - val_accuracy: 0.9815\n",
            "Epoch 13/20\n",
            "2560/2588 [============================>.] - ETA: 0s - loss: 0.1324 - accuracy: 0.9480\n",
            "Epoch 13: val_accuracy did not improve from 0.98145\n",
            "2588/2588 [==============================] - 3s 1ms/sample - loss: 0.1336 - accuracy: 0.9478 - val_loss: 0.0734 - val_accuracy: 0.9815\n",
            "Epoch 14/20\n",
            "2588/2588 [==============================] - ETA: 0s - loss: 0.1341 - accuracy: 0.9482\n",
            "Epoch 14: val_accuracy did not improve from 0.98145\n",
            "2588/2588 [==============================] - 3s 1ms/sample - loss: 0.1341 - accuracy: 0.9482 - val_loss: 0.0734 - val_accuracy: 0.9815\n",
            "Epoch 15/20\n",
            "2560/2588 [============================>.] - ETA: 0s - loss: 0.1275 - accuracy: 0.9504\n",
            "Epoch 15: val_accuracy did not improve from 0.98145\n",
            "2588/2588 [==============================] - 3s 1ms/sample - loss: 0.1272 - accuracy: 0.9505 - val_loss: 0.0735 - val_accuracy: 0.9815\n",
            "Epoch 16/20\n",
            "2560/2588 [============================>.] - ETA: 0s - loss: 0.1514 - accuracy: 0.9520\n",
            "Epoch 16: val_accuracy did not improve from 0.98145\n",
            "2588/2588 [==============================] - 3s 1ms/sample - loss: 0.1538 - accuracy: 0.9505 - val_loss: 0.0734 - val_accuracy: 0.9815\n",
            "Epoch 17/20\n",
            "2560/2588 [============================>.] - ETA: 0s - loss: 0.1335 - accuracy: 0.9547\n",
            "Epoch 17: val_accuracy did not improve from 0.98145\n",
            "2588/2588 [==============================] - 3s 1ms/sample - loss: 0.1344 - accuracy: 0.9544 - val_loss: 0.0734 - val_accuracy: 0.9815\n",
            "Epoch 18/20\n",
            "2560/2588 [============================>.] - ETA: 0s - loss: 0.1211 - accuracy: 0.9547\n",
            "Epoch 18: val_accuracy did not improve from 0.98145\n",
            "2588/2588 [==============================] - 3s 1ms/sample - loss: 0.1208 - accuracy: 0.9548 - val_loss: 0.0734 - val_accuracy: 0.9815\n",
            "Epoch 19/20\n",
            "2588/2588 [==============================] - ETA: 0s - loss: 0.1307 - accuracy: 0.9494\n",
            "Epoch 19: val_accuracy did not improve from 0.98145\n",
            "2588/2588 [==============================] - 3s 1ms/sample - loss: 0.1307 - accuracy: 0.9494 - val_loss: 0.0736 - val_accuracy: 0.9815\n",
            "Epoch 20/20\n",
            "2560/2588 [============================>.] - ETA: 0s - loss: 0.1238 - accuracy: 0.9539\n",
            "Epoch 20: val_accuracy did not improve from 0.98145\n",
            "2588/2588 [==============================] - 3s 1ms/sample - loss: 0.1279 - accuracy: 0.9525 - val_loss: 0.0734 - val_accuracy: 0.9815\n"
          ]
        }
      ],
      "source": [
        "OUT_DIR = \"/content/drive/MyDrive/WFBBDEM/WFBBDEM+/NEWFBB_DEM\"\n",
        "checkpoint = ModelCheckpoint(os.path.join(OUT_DIR, 'DiMergeCNN.h5'),  # model filename\n",
        "                              monitor='val_accuracy', # quantity to monitor\n",
        "                              verbose=1, # verbosity - 0 or 1\n",
        "                              save_best_only= True, # The latest best model will not be overwritten\n",
        "                              save_weights_only=True, # save model, not only weights\n",
        "                              mode='auto') # The decision to overwrite model is made\n",
        "                                            # automatically depending on the quantity to monitor\n",
        "\n",
        "model_details = model.fit([train_data[:,i] for i in range(5)], np.asarray(train_label)[:,0],\n",
        "                          batch_size = BATCH_SIZE,\n",
        "                          epochs = EPOCHS,\n",
        "                          validation_split=0.2,\n",
        "                          callbacks=[checkpoint],\n",
        "                          verbose=1)\n"
      ]
    },
    {
      "cell_type": "code",
      "source": [
        "# #history = {'loss':[],'accuracy':[],'val_loss':[],'val_accuracy':[]}\n",
        "# for i in model_details.history.keys():\n",
        "#   history[i].extend(model_details.history[i])"
      ],
      "metadata": {
        "id": "uTT1Ug57P9RR"
      },
      "execution_count": 132,
      "outputs": []
    },
    {
      "cell_type": "code",
      "source": [],
      "metadata": {
        "id": "Qj09N1xgQXA0"
      },
      "execution_count": 132,
      "outputs": []
    },
    {
      "cell_type": "code",
      "execution_count": 133,
      "metadata": {
        "id": "OtkAhGVC_YgB"
      },
      "outputs": [],
      "source": [
        "def plot_confusion_matrix(confusion_mat):\n",
        "    plt.imshow(confusion_mat,interpolation='nearest',cmap=plt.cm.Wistia)\n",
        "    plt.title('CNN Confusion Matrix',fontsize=20)\n",
        "    plt.colorbar()\n",
        "    tick_marks=np.arange(2) # class number\n",
        "    plt.xticks(tick_marks,tick_marks,fontsize=16)\n",
        "    plt.yticks(tick_marks,tick_marks,fontsize=16)\n",
        "    plt.ylabel('True Label',fontsize=16)\n",
        "    plt.xlabel('Predicted Label',fontsize=16)\n",
        "    for i in range(len(confusion_mat)):    #row\n",
        "        for j in range(len(confusion_mat[i])):    #col\n",
        "            plt.text(j, i, confusion_mat[i][j],fontsize=16) # images number of each part\n",
        "    plt.show()\n",
        "\n",
        "def plot_learning_curves(history):\n",
        "    df=pd.DataFrame(history,index=np.arange(0, len(history['loss'])).astype(dtype=np.str))\n",
        "    df.plot(use_index=True,figsize=(8, 5))\n",
        "    plt.grid(True)\n",
        "\n",
        "    #plt.gca().set_ylim(0, 1)\n",
        "    plt.show()"
      ]
    },
    {
      "cell_type": "code",
      "execution_count": 133,
      "metadata": {
        "id": "PmdRH50NV6VK"
      },
      "outputs": [],
      "source": []
    },
    {
      "cell_type": "code",
      "execution_count": 134,
      "metadata": {
        "id": "1LtDK9RVLqPn"
      },
      "outputs": [],
      "source": [
        "#test_label = np.asarray(test_label)"
      ]
    },
    {
      "cell_type": "code",
      "execution_count": 135,
      "metadata": {
        "id": "u_UjkFZGkAoU",
        "colab": {
          "base_uri": "https://localhost:8080/"
        },
        "outputId": "56565534-1565-4ad4-dcb4-950562f552ba"
      },
      "outputs": [
        {
          "output_type": "execute_result",
          "data": {
            "text/plain": [
              "dict_keys(['loss', 'accuracy', 'val_loss', 'val_accuracy'])"
            ]
          },
          "metadata": {},
          "execution_count": 135
        }
      ],
      "source": [
        "model_details.history.keys()"
      ]
    },
    {
      "cell_type": "code",
      "execution_count": 136,
      "metadata": {
        "id": "srBUkBRokW5r"
      },
      "outputs": [],
      "source": [
        "# ######################### learning curve\n",
        "\n",
        "# plot_learning_curves(history)\n"
      ]
    },
    {
      "cell_type": "code",
      "execution_count": 136,
      "metadata": {
        "id": "w37I_pd0lkPM"
      },
      "outputs": [],
      "source": []
    },
    {
      "cell_type": "code",
      "execution_count": 137,
      "metadata": {
        "id": "y8l4ZK0imMYQ"
      },
      "outputs": [],
      "source": [
        "#test_data = np.expand_dims(test_data,4)"
      ]
    },
    {
      "cell_type": "code",
      "execution_count": 138,
      "metadata": {
        "colab": {
          "base_uri": "https://localhost:8080/",
          "height": 509
        },
        "id": "w0B_go4RZTCe",
        "outputId": "8541b6b8-3be1-4cea-d4d5-d809f52f8577"
      },
      "outputs": [
        {
          "output_type": "display_data",
          "data": {
            "text/plain": [
              "<Figure size 640x480 with 2 Axes>"
            ],
            "image/png": "[encoded data removed]"
          },
          "metadata": {}
        },
        {
          "output_type": "stream",
          "name": "stdout",
          "text": [
            "Accuracy: 0.9815 Loss: 0.0634 Precision: 0.9814354166412008 Recall: 0.9815531428431696 F1: 0.9814942762119918 Batch Size: 64 Learning Rate: 1e-15 Epochs: 20\n"
          ]
        }
      ],
      "source": [
        "# Predict\n",
        "scroe, accuracy = model.evaluate([test_data[:,i] for i in range(5)], test_label[:,0], batch_size=BATCH_SIZE)\n",
        "pred_label = model.predict([test_data[:,i] for i in range(5)])\n",
        "#pred_label = [sum([i[0] for i in q]) for q in test_data]\n",
        "pred_label = np.argmax(pred_label, axis=1)\n",
        "\n",
        "\n",
        "for t in range(pred_label.shape[0]):\n",
        "    NameWrong=[]\n",
        "    labelPred=[]\n",
        "    if (pred_label[t]!=test_label[t,0]):\n",
        "        # print (test_label[t,0], test_label[t,1], pred_label[t])\n",
        "        NameWrong.append(test_label[t,1])\n",
        "        labelPred.append(pred_label[t])\n",
        "confusion_matrix = tf.math.confusion_matrix(labels=test_label[:,0],predictions=pred_label, num_classes=2, dtype=tf.int32, name=None, weights=None)\n",
        "sess=tf.compat.v1.Session()\n",
        "\n",
        "#with tf.compat.v1.Session(graph=g) as sess:\n",
        "confusion_matrix = sess.run(confusion_matrix)\n",
        "plot_confusion_matrix(confusion_matrix)\n",
        "\n",
        "#plot_learning_curves(model_details)\n",
        "precision = (confusion_matrix[0][0]/(confusion_matrix[0][0]+confusion_matrix[1][0])+confusion_matrix[1][1]/(confusion_matrix[1][1]+confusion_matrix[0][1]))/2\n",
        "recall = (confusion_matrix[0][0]/(confusion_matrix[0][0]+confusion_matrix[0][1])+confusion_matrix[1][1]/(confusion_matrix[1][1]+confusion_matrix[1][0]))/2\n",
        "F = 2*(precision*recall)/(precision+recall)\n",
        "print ('Accuracy:', '{:.4f}'.format(accuracy), 'Loss:','{:.4f}'.format(scroe), f'Precision: {precision}', f'Recall: {recall}', f'F1: {F}', 'Batch Size:', BATCH_SIZE,'Learning Rate:', LEARNING_RATE, 'Epochs:', EPOCHS)\n"
      ]
    },
    {
      "cell_type": "code",
      "source": [],
      "metadata": {
        "colab": {
          "base_uri": "https://localhost:8080/",
          "height": 175
        },
        "id": "jhU_tZp0WBcQ",
        "outputId": "31aa2bbe-078e-41fc-9b4f-b5ef3d860b09"
      },
      "execution_count": 139,
      "outputs": [
        {
          "output_type": "error",
          "ename": "NameError",
          "evalue": "name 'lol' is not defined",
          "traceback": [
            "\u001b[0;31m---------------------------------------------------------------------------\u001b[0m",
            "\u001b[0;31mNameError\u001b[0m                                 Traceback (most recent call last)",
            "\u001b[0;32m<ipython-input-139-6d9627000451>\u001b[0m in \u001b[0;36m<cell line: 1>\u001b[0;34m()\u001b[0m\n\u001b[0;32m----> 1\u001b[0;31m \u001b[0mlol\u001b[0m\u001b[0;34m\u001b[0m\u001b[0;34m\u001b[0m\u001b[0m\n\u001b[0m",
            "\u001b[0;31mNameError\u001b[0m: name 'lol' is not defined"
          ]
        }
      ]
    },
    {
      "cell_type": "code",
      "source": [
        "x = np.arange(16).reshape((4, 4))"
      ],
      "metadata": {
        "id": "WJwVBD7fxDhq"
      },
      "execution_count": null,
      "outputs": []
    },
    {
      "cell_type": "code",
      "source": [],
      "metadata": {
        "id": "iNrhMNmbxEmm"
      },
      "execution_count": null,
      "outputs": []
    },
    {
      "cell_type": "code",
      "source": [
        "np.arange(16).reshape((4, 4))"
      ],
      "metadata": {
        "id": "v0nb0wvqTEBV"
      },
      "execution_count": null,
      "outputs": []
    },
    {
      "cell_type": "code",
      "source": [
        "for i in range(5):\n",
        "  s = 0\n",
        "  test = test_data.copy()\n",
        "  for q in range(100):\n",
        "    np.random.shuffle(test[:,i])\n",
        "    scroe, accuracy = model.evaluate([test[:,i] for i in range(5)], test_label[:,0], batch_size=512)\n",
        "    s += .9815-accuracy\n",
        "  print(s/100)"
      ],
      "metadata": {
        "id": "v0A2OkmqjST_",
        "colab": {
          "base_uri": "https://localhost:8080/"
        },
        "outputId": "ba2f0857-4d46-4beb-9152-14c3c8956023"
      },
      "execution_count": 141,
      "outputs": [
        {
          "output_type": "stream",
          "name": "stdout",
          "text": [
            "0.1489165660142902\n",
            "0.004244128108024636\n",
            "0.010770705580711405\n",
            "0.08915142023563413\n",
            "0.22727255964279214\n"
          ]
        }
      ]
    },
    {
      "cell_type": "code",
      "execution_count": null,
      "metadata": {
        "id": "oCMitqCAH0DD"
      },
      "outputs": [],
      "source": [
        "x_test = test_data\n",
        "y_test = test_label[:,0]"
      ]
    },
    {
      "cell_type": "code",
      "execution_count": null,
      "metadata": {
        "id": "BbJRYNjtjAA-"
      },
      "outputs": [],
      "source": []
    },
    {
      "cell_type": "code",
      "execution_count": null,
      "metadata": {
        "id": "3V3d8Y7A9MgH"
      },
      "outputs": [],
      "source": []
    },
    {
      "cell_type": "code",
      "execution_count": null,
      "metadata": {
        "id": "lDlV6oDEL0KB"
      },
      "outputs": [],
      "source": [
        "!pip install shap"
      ]
    },
    {
      "cell_type": "code",
      "execution_count": null,
      "metadata": {
        "id": "uzgfscXri4sE"
      },
      "outputs": [],
      "source": [
        "import shap\n",
        "explainer = shap.DeepExplainer(model,[test_data[:50,i] for i in range(5)])\n",
        "shap.initjs()"
      ]
    },
    {
      "cell_type": "code",
      "source": [],
      "metadata": {
        "id": "1Y2Zq4TNFxVe"
      },
      "execution_count": null,
      "outputs": []
    },
    {
      "cell_type": "code",
      "execution_count": null,
      "metadata": {
        "id": "KJayLg6dujtt"
      },
      "outputs": [],
      "source": [
        "shap_value = explainer.shap_values([test_data[:1,i] for i in range(5)])\n",
        "shap_value = np.squeeze(np.asarray(shap_value))"
      ]
    },
    {
      "cell_type": "code",
      "source": [],
      "metadata": {
        "id": "-KcZYqmHJkmt"
      },
      "execution_count": null,
      "outputs": []
    },
    {
      "cell_type": "code",
      "execution_count": null,
      "metadata": {
        "id": "_Axpywm_yukp"
      },
      "outputs": [],
      "source": [
        "shap_value.shape"
      ]
    },
    {
      "cell_type": "code",
      "execution_count": null,
      "metadata": {
        "id": "sXqFkBkcmcYf"
      },
      "outputs": [],
      "source": []
    },
    {
      "cell_type": "code",
      "execution_count": null,
      "metadata": {
        "id": "aVdK200FUc_t"
      },
      "outputs": [],
      "source": [
        "shap.summary_plot(shap_value[1])"
      ]
    },
    {
      "cell_type": "code",
      "execution_count": null,
      "metadata": {
        "id": "2O9s7WV-6vpJ"
      },
      "outputs": [],
      "source": [
        "test_data.shape"
      ]
    },
    {
      "cell_type": "code",
      "execution_count": null,
      "metadata": {
        "id": "josevmPN6qs3"
      },
      "outputs": [],
      "source": [
        "shap_value.shape"
      ]
    },
    {
      "cell_type": "code",
      "source": [
        "test_data.shape"
      ],
      "metadata": {
        "id": "cqp9ZC37n0_C"
      },
      "execution_count": null,
      "outputs": []
    },
    {
      "cell_type": "code",
      "execution_count": null,
      "metadata": {
        "id": "AcjqRJs4iK_l"
      },
      "outputs": [],
      "source": [
        "for i in range(5):\n",
        "  # shap.image_plot([shap_value[0,:,:,i:i+1],shap_value[1,:,:,i:i+1]],test_data[0,:,:,i:i+1])\n",
        "  shap.image_plot(shap_value[1,:,:,i:i+1],test_data[0,i,:,:,0])\n",
        "  # shap.image_plot(shap_value[0,:,:,i:i+1],test_data[0,:,:,i:i+1])"
      ]
    },
    {
      "cell_type": "code",
      "execution_count": null,
      "metadata": {
        "id": "TfXVbe3dJNuf"
      },
      "outputs": [],
      "source": [
        "shap_value.shape"
      ]
    },
    {
      "cell_type": "code",
      "execution_count": null,
      "metadata": {
        "id": "wVq48USCKb2e"
      },
      "outputs": [],
      "source": [
        "explainer"
      ]
    },
    {
      "cell_type": "code",
      "execution_count": null,
      "metadata": {
        "id": "5bDlWtRYF78h"
      },
      "outputs": [],
      "source": [
        "shap.initjs()\n",
        "shap.force_plot(explainer.expected_value[0],shap_value[0,:,:,0])"
      ]
    }
  ],
  "metadata": {
    "accelerator": "GPU",
    "colab": {
      "provenance": [],
      "include_colab_link": true
    },
    "kernelspec": {
      "display_name": "Python 3",
      "name": "python3"
    },
    "language_info": {
      "name": "python"
    }
  },
  "nbformat": 4,
  "nbformat_minor": 0
}