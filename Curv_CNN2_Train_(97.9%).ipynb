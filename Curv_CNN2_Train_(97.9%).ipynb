{
  "cells": [
    {
      "cell_type": "markdown",
      "metadata": {
        "id": "view-in-github",
        "colab_type": "text"
      },
      "source": [
        "<a href=\"https://colab.research.google.com/github/BillXu21/culvert-identification/blob/main/Curv_CNN2_Train_(97.9%25).ipynb\" target=\"_parent\"><img src=\"https://colab.research.google.com/assets/colab-badge.svg\" alt=\"Open In Colab\"/></a>"
      ]
    },
    {
      "cell_type": "code",
      "execution_count": null,
      "metadata": {
        "id": "Xb9mOho-4Jzu"
      },
      "outputs": [],
      "source": []
    },
    {
      "cell_type": "code",
      "source": [
        "from google.colab import drive\n",
        "drive.mount('/content/drive')"
      ],
      "metadata": {
        "colab": {
          "base_uri": "https://localhost:8080/"
        },
        "id": "XXyxMJsWTOR9",
        "outputId": "b52f168b-5747-44f1-c161-b9fbcd330575"
      },
      "execution_count": null,
      "outputs": [
        {
          "output_type": "stream",
          "name": "stdout",
          "text": [
            "Drive already mounted at /content/drive; to attempt to forcibly remount, call drive.mount(\"/content/drive\", force_remount=True).\n"
          ]
        }
      ]
    },
    {
      "cell_type": "code",
      "execution_count": null,
      "metadata": {
        "colab": {
          "base_uri": "https://localhost:8080/"
        },
        "id": "e4-tHPbV7Yz7",
        "outputId": "d3860fb7-6a11-42f0-db50-6fb01fa4580e"
      },
      "outputs": [
        {
          "output_type": "stream",
          "name": "stdout",
          "text": [
            "3.10.12 (main, Nov 20 2023, 15:14:05) [GCC 11.4.0]\n"
          ]
        }
      ],
      "source": [
        "import sys\n",
        "print(sys.version)"
      ]
    },
    {
      "cell_type": "code",
      "execution_count": null,
      "metadata": {
        "colab": {
          "base_uri": "https://localhost:8080/"
        },
        "id": "z1aSvmuWO8gT",
        "outputId": "912304eb-fd7d-473a-cc76-bb0048279962"
      },
      "outputs": [
        {
          "output_type": "stream",
          "name": "stdout",
          "text": [
            "2.15.0\n"
          ]
        }
      ],
      "source": [
        "import tensorflow as tf\n",
        "print(tf.__version__)"
      ]
    },
    {
      "cell_type": "code",
      "execution_count": null,
      "metadata": {
        "id": "IitySReDO9VA"
      },
      "outputs": [],
      "source": [
        "import os\n",
        "os.environ[\"CUDA_VISIBLE_DEVICES\"] = \"0\"\n",
        "\n",
        "from skimage import io\n",
        "import glob\n",
        "\n",
        "from sklearn.model_selection import train_test_split\n",
        "# import tensorflow as tf\n",
        "\n",
        "import tensorflow as tf\n",
        "\n",
        "import numpy as np\n",
        "import pandas as pd\n",
        "\n",
        "\n",
        "#from tensorflow.keras.callbacks import TensorBoard\n",
        "from tensorflow.compat.v1.keras.models import Sequential\n",
        "from tensorflow.compat.v1.keras.layers import BatchNormalization\n",
        "from tensorflow.compat.v1.keras.layers import Dense, Dropout, Flatten, Activation\n",
        "from tensorflow.compat.v1.keras.layers import Convolution2D, MaxPooling2D, AveragePooling2D\n",
        "from tensorflow.compat.v1.keras.optimizers import Adadelta, Adam\n",
        "from tensorflow.compat.v1.keras.callbacks import ModelCheckpoint\n",
        "from tensorflow import keras\n",
        "\n",
        "from sklearn.preprocessing import MinMaxScaler\n",
        "\n",
        "#from tensorflow.keras import callbacks\n",
        "import matplotlib.pyplot as plt\n",
        "\n",
        "tf.compat.v1.disable_eager_execution()"
      ]
    },
    {
      "cell_type": "code",
      "execution_count": null,
      "metadata": {
        "id": "jlHDhDKcPCnP"
      },
      "outputs": [],
      "source": [
        "path='/content/drive/MyDrive/WFBBDEM/'   #DEM\n",
        "\n",
        "# using one watershed to train model, 3 of them to test\n",
        "pathTrain='WFBBDEM_Train/'\n",
        "pathTest1='WFBBDEM_Test/'"
      ]
    },
    {
      "cell_type": "code",
      "execution_count": null,
      "metadata": {
        "id": "z_9MeDbA94s6"
      },
      "outputs": [],
      "source": []
    },
    {
      "cell_type": "code",
      "source": [
        "import pickle\n",
        "with open('/content/drive/MyDrive/WFBBDEM/WFBBDEM+/NEWFBB_DEM/Cuvature/data','rb') as fin: data = pickle.load(fin)\n",
        "with open('/content/drive/MyDrive/WFBBDEM/WFBBDEM+/NEWFBB_DEM/Cuvature/label',  'rb') as fin: label = pickle.load(fin)\n",
        "with open('/content/drive/MyDrive/WFBBDEM/WFBBDEM+/NEWFBB_DEM/Cuvature/name','rb') as fin: name = pickle.load(fin)"
      ],
      "metadata": {
        "id": "R2l3OoRIwGJw"
      },
      "execution_count": null,
      "outputs": []
    },
    {
      "cell_type": "code",
      "source": [],
      "metadata": {
        "id": "ZfMMT_xBus7x"
      },
      "execution_count": null,
      "outputs": []
    },
    {
      "cell_type": "code",
      "execution_count": null,
      "metadata": {
        "id": "WYP4P6g30exU"
      },
      "outputs": [],
      "source": []
    },
    {
      "cell_type": "code",
      "execution_count": null,
      "metadata": {
        "id": "5Ggf632H0Ym7"
      },
      "outputs": [],
      "source": [
        "data=np.expand_dims(data,3) # add channel dimension, 4D\n",
        "\n",
        "labelN=label.shape[0]\n",
        "\n",
        "\n",
        "label_name=np.empty((labelN,2),dtype=int) # label + name\n",
        "for i in range(labelN):\n",
        "    label_name[i,0]=label[i] # label\n",
        "    if (name[i].isdigit()):\n",
        "        name[i]=name[i]\n",
        "    else:\n",
        "        name[i]=name[i][1:] # only keep number, delete first letter\n",
        "    name[i] = name[i].split()[0]\n",
        "    label_name[i,1]=name[i]"
      ]
    },
    {
      "cell_type": "code",
      "source": [],
      "metadata": {
        "id": "BImPttew4NXQ"
      },
      "execution_count": null,
      "outputs": []
    },
    {
      "cell_type": "code",
      "execution_count": null,
      "metadata": {
        "id": "Tp57KNqaBd0Z"
      },
      "outputs": [],
      "source": [
        "# split data into train and test groups\n",
        "train_data,test_data,train_label,test_label = train_test_split(data,label_name,test_size=0.2,stratify=label)"
      ]
    },
    {
      "cell_type": "code",
      "source": [],
      "metadata": {
        "id": "CXaahe785AIT"
      },
      "execution_count": null,
      "outputs": []
    },
    {
      "cell_type": "code",
      "execution_count": null,
      "metadata": {
        "id": "RQ9QJ7MKFbUM"
      },
      "outputs": [],
      "source": [
        "# creat CNN model\n",
        "def createCNN():\n",
        "    inputs = [keras.layers.Input(shape = (100,100,1)) for i in range(5)]\n",
        "    merged = keras.layers.Input(shape = (100,100,1))\n",
        "    a = Convolution2D(128,3,3,padding='same')(merged)\n",
        "    b = BatchNormalization()(a)\n",
        "    c = Activation('relu')(b)\n",
        "    d = Dropout(0.3)(c)\n",
        "\n",
        "    e = Convolution2D(256,3,3,padding='same')(d)\n",
        "    f = BatchNormalization()(e)\n",
        "    g = Activation('relu')(f)\n",
        "    h = Dropout(0.3)(g)\n",
        "\n",
        "    i = Convolution2D(512,3,3,padding='same')(h)\n",
        "    j = BatchNormalization()(i)\n",
        "    k = Activation('relu')(j)\n",
        "    l = Dropout(0.3)(k)\n",
        "\n",
        "    flat = Flatten()(l)\n",
        "\n",
        "    m = Dense(512,activation = 'relu')(flat)\n",
        "    n = Dropout(0.5)(m)\n",
        "    o = Dense(128,activation = 'relu')(n)\n",
        "    p = Dropout(0.5)(o)\n",
        "    q = Dense(32,activation = 'relu')(p)\n",
        "    r = Dropout(0.5)(q)\n",
        "    s = Dense(2,activation = 'softmax')(r)\n",
        "\n",
        "    model = keras.models.Model(inputs = merged, outputs = s)\n",
        "\n",
        "    # model.summary()\n",
        "\n",
        "    return model"
      ]
    },
    {
      "cell_type": "code",
      "source": [],
      "metadata": {
        "id": "KSCjJkfH2GFL"
      },
      "execution_count": null,
      "outputs": []
    },
    {
      "cell_type": "code",
      "execution_count": null,
      "metadata": {
        "colab": {
          "base_uri": "https://localhost:8080/"
        },
        "id": "8IvCqRb7Hi_W",
        "outputId": "99ab9d30-8713-449d-887f-bc3091e3b2e9"
      },
      "outputs": [
        {
          "output_type": "stream",
          "name": "stderr",
          "text": [
            "/usr/local/lib/python3.10/dist-packages/keras/src/optimizers/legacy/adam.py:118: UserWarning: The `lr` argument is deprecated, use `learning_rate` instead.\n",
            "  super().__init__(name, **kwargs)\n"
          ]
        }
      ],
      "source": [
        "LEARNING_RATE = 1e-30\n",
        "BATCH_SIZE = 64\n",
        "EPOCHS = 20\n",
        "\n",
        "\n",
        "model = createCNN()\n",
        "\n",
        "model.load_weights('/content/drive/MyDrive/WFBBDEM/Models/ModelCURV2022CNN.h5')\n",
        "\n",
        "model.compile(loss='sparse_categorical_crossentropy',\n",
        "              optimizer=Adam(lr=LEARNING_RATE),\n",
        "              metrics=['accuracy'])"
      ]
    },
    {
      "cell_type": "code",
      "source": [],
      "metadata": {
        "id": "LEvOhh6Q2X17"
      },
      "execution_count": null,
      "outputs": []
    },
    {
      "cell_type": "code",
      "source": [
        "#model.summary()"
      ],
      "metadata": {
        "id": "aTgSdRtFtNKL"
      },
      "execution_count": null,
      "outputs": []
    },
    {
      "cell_type": "code",
      "source": [
        "import gc\n",
        "gc.collect()"
      ],
      "metadata": {
        "colab": {
          "base_uri": "https://localhost:8080/"
        },
        "id": "xD0NF7XK5nFf",
        "outputId": "bd1fcd53-8a73-4f6b-f1a7-1986286150f5"
      },
      "execution_count": null,
      "outputs": [
        {
          "output_type": "execute_result",
          "data": {
            "text/plain": [
              "9707"
            ]
          },
          "metadata": {},
          "execution_count": 115
        }
      ]
    },
    {
      "cell_type": "code",
      "execution_count": null,
      "metadata": {
        "colab": {
          "base_uri": "https://localhost:8080/"
        },
        "id": "fNTZfDiiHmij",
        "outputId": "e34b8e79-f5cf-4bcf-afa5-8971c4042065"
      },
      "outputs": [
        {
          "output_type": "stream",
          "name": "stdout",
          "text": [
            "Train on 2588 samples, validate on 647 samples\n",
            "Epoch 1/20\n",
            "2560/2588 [============================>.] - ETA: 0s - loss: 0.1787 - accuracy: 0.9316"
          ]
        },
        {
          "output_type": "stream",
          "name": "stderr",
          "text": [
            "/usr/local/lib/python3.10/dist-packages/keras/src/engine/training_v1.py:2335: UserWarning: `Model.state_updates` will be removed in a future version. This property should not be used in TensorFlow 2.0, as `updates` are applied automatically.\n",
            "  updates = self.state_updates\n"
          ]
        },
        {
          "output_type": "stream",
          "name": "stdout",
          "text": [
            "\n",
            "Epoch 1: val_accuracy improved from -inf to 0.97218, saving model to /content/drive/MyDrive/WFBBDEM/Models/ModelCURV2022CNN1.h5\n",
            "2588/2588 [==============================] - 5s 2ms/sample - loss: 0.1782 - accuracy: 0.9316 - val_loss: 0.0882 - val_accuracy: 0.9722\n",
            "Epoch 2/20\n",
            "2588/2588 [==============================] - ETA: 0s - loss: 0.1820 - accuracy: 0.9374\n",
            "Epoch 2: val_accuracy did not improve from 0.97218\n",
            "2588/2588 [==============================] - 2s 753us/sample - loss: 0.1820 - accuracy: 0.9374 - val_loss: 0.0906 - val_accuracy: 0.9722\n",
            "Epoch 3/20\n",
            "2588/2588 [==============================] - ETA: 0s - loss: 0.1815 - accuracy: 0.9328\n",
            "Epoch 3: val_accuracy did not improve from 0.97218\n",
            "2588/2588 [==============================] - 2s 745us/sample - loss: 0.1815 - accuracy: 0.9328 - val_loss: 0.0917 - val_accuracy: 0.9706\n",
            "Epoch 4/20\n",
            "2560/2588 [============================>.] - ETA: 0s - loss: 0.1722 - accuracy: 0.9344\n",
            "Epoch 4: val_accuracy did not improve from 0.97218\n",
            "2588/2588 [==============================] - 2s 706us/sample - loss: 0.1718 - accuracy: 0.9347 - val_loss: 0.0927 - val_accuracy: 0.9706\n",
            "Epoch 5/20\n",
            "2588/2588 [==============================] - ETA: 0s - loss: 0.1778 - accuracy: 0.9355\n",
            "Epoch 5: val_accuracy did not improve from 0.97218\n",
            "2588/2588 [==============================] - 2s 681us/sample - loss: 0.1778 - accuracy: 0.9355 - val_loss: 0.0935 - val_accuracy: 0.9706\n",
            "Epoch 6/20\n",
            "2588/2588 [==============================] - ETA: 0s - loss: 0.1694 - accuracy: 0.9382\n",
            "Epoch 6: val_accuracy did not improve from 0.97218\n",
            "2588/2588 [==============================] - 2s 686us/sample - loss: 0.1694 - accuracy: 0.9382 - val_loss: 0.0939 - val_accuracy: 0.9706\n",
            "Epoch 7/20\n",
            "2588/2588 [==============================] - ETA: 0s - loss: 0.1820 - accuracy: 0.9347\n",
            "Epoch 7: val_accuracy did not improve from 0.97218\n",
            "2588/2588 [==============================] - 2s 680us/sample - loss: 0.1820 - accuracy: 0.9347 - val_loss: 0.0945 - val_accuracy: 0.9706\n",
            "Epoch 8/20\n",
            "2588/2588 [==============================] - ETA: 0s - loss: 0.1701 - accuracy: 0.9417\n",
            "Epoch 8: val_accuracy did not improve from 0.97218\n",
            "2588/2588 [==============================] - 2s 678us/sample - loss: 0.1701 - accuracy: 0.9417 - val_loss: 0.0948 - val_accuracy: 0.9706\n",
            "Epoch 9/20\n",
            "2588/2588 [==============================] - ETA: 0s - loss: 0.1687 - accuracy: 0.9389\n",
            "Epoch 9: val_accuracy did not improve from 0.97218\n",
            "2588/2588 [==============================] - 2s 678us/sample - loss: 0.1687 - accuracy: 0.9389 - val_loss: 0.0949 - val_accuracy: 0.9706\n",
            "Epoch 10/20\n",
            "2560/2588 [============================>.] - ETA: 0s - loss: 0.1741 - accuracy: 0.9383\n",
            "Epoch 10: val_accuracy did not improve from 0.97218\n",
            "2588/2588 [==============================] - 2s 727us/sample - loss: 0.1735 - accuracy: 0.9382 - val_loss: 0.0945 - val_accuracy: 0.9706\n",
            "Epoch 11/20\n",
            "2560/2588 [============================>.] - ETA: 0s - loss: 0.1749 - accuracy: 0.9398\n",
            "Epoch 11: val_accuracy did not improve from 0.97218\n",
            "2588/2588 [==============================] - 2s 742us/sample - loss: 0.1740 - accuracy: 0.9401 - val_loss: 0.0943 - val_accuracy: 0.9706\n",
            "Epoch 12/20\n",
            "2560/2588 [============================>.] - ETA: 0s - loss: 0.1614 - accuracy: 0.9430\n",
            "Epoch 12: val_accuracy did not improve from 0.97218\n",
            "2588/2588 [==============================] - 2s 726us/sample - loss: 0.1601 - accuracy: 0.9436 - val_loss: 0.0944 - val_accuracy: 0.9706\n",
            "Epoch 13/20\n",
            "2588/2588 [==============================] - ETA: 0s - loss: 0.1684 - accuracy: 0.9397\n",
            "Epoch 13: val_accuracy did not improve from 0.97218\n",
            "2588/2588 [==============================] - 2s 678us/sample - loss: 0.1684 - accuracy: 0.9397 - val_loss: 0.0947 - val_accuracy: 0.9706\n",
            "Epoch 14/20\n",
            "2588/2588 [==============================] - ETA: 0s - loss: 0.1873 - accuracy: 0.9374\n",
            "Epoch 14: val_accuracy did not improve from 0.97218\n",
            "2588/2588 [==============================] - 2s 680us/sample - loss: 0.1873 - accuracy: 0.9374 - val_loss: 0.0946 - val_accuracy: 0.9706\n",
            "Epoch 15/20\n",
            "2588/2588 [==============================] - ETA: 0s - loss: 0.1670 - accuracy: 0.9451\n",
            "Epoch 15: val_accuracy did not improve from 0.97218\n",
            "2588/2588 [==============================] - 2s 681us/sample - loss: 0.1670 - accuracy: 0.9451 - val_loss: 0.0948 - val_accuracy: 0.9706\n",
            "Epoch 16/20\n",
            "2588/2588 [==============================] - ETA: 0s - loss: 0.1852 - accuracy: 0.9297\n",
            "Epoch 16: val_accuracy did not improve from 0.97218\n",
            "2588/2588 [==============================] - 2s 679us/sample - loss: 0.1852 - accuracy: 0.9297 - val_loss: 0.0948 - val_accuracy: 0.9706\n",
            "Epoch 17/20\n",
            "2588/2588 [==============================] - ETA: 0s - loss: 0.1840 - accuracy: 0.9370\n",
            "Epoch 17: val_accuracy did not improve from 0.97218\n",
            "2588/2588 [==============================] - 2s 680us/sample - loss: 0.1840 - accuracy: 0.9370 - val_loss: 0.0946 - val_accuracy: 0.9706\n",
            "Epoch 18/20\n",
            "2560/2588 [============================>.] - ETA: 0s - loss: 0.1658 - accuracy: 0.9426\n",
            "Epoch 18: val_accuracy did not improve from 0.97218\n",
            "2588/2588 [==============================] - 2s 713us/sample - loss: 0.1661 - accuracy: 0.9424 - val_loss: 0.0945 - val_accuracy: 0.9706\n",
            "Epoch 19/20\n",
            "2588/2588 [==============================] - ETA: 0s - loss: 0.1626 - accuracy: 0.9447\n",
            "Epoch 19: val_accuracy did not improve from 0.97218\n",
            "2588/2588 [==============================] - 2s 748us/sample - loss: 0.1626 - accuracy: 0.9447 - val_loss: 0.0947 - val_accuracy: 0.9706\n",
            "Epoch 20/20\n",
            "2560/2588 [============================>.] - ETA: 0s - loss: 0.1800 - accuracy: 0.9395\n",
            "Epoch 20: val_accuracy did not improve from 0.97218\n",
            "2588/2588 [==============================] - 2s 724us/sample - loss: 0.1797 - accuracy: 0.9397 - val_loss: 0.0945 - val_accuracy: 0.9706\n"
          ]
        }
      ],
      "source": [
        "OUT_DIR = \"/content/drive/MyDrive/WFBBDEM/Models\"\n",
        "checkpoint = ModelCheckpoint(os.path.join(OUT_DIR, 'ModelCURV2022CNN1.h5'),  # model filename\n",
        "                              monitor='val_accuracy', # quantity to monitor\n",
        "                              verbose=1, # verbosity - 0 or 1\n",
        "                              save_best_only= True, # The latest best model will not be overwritten\n",
        "                              save_weights_only=True, # save model, not only weights\n",
        "                              mode='auto') # The decision to overwrite model is made\n",
        "                                            # automatically depending on the quantity to monitor\n",
        "\n",
        "model_details = model.fit(train_data, train_label[:,0],\n",
        "                          batch_size = BATCH_SIZE,\n",
        "                          epochs = EPOCHS,\n",
        "                          validation_split=0.2,\n",
        "                          callbacks=[checkpoint],\n",
        "                          verbose=1)\n"
      ]
    },
    {
      "cell_type": "code",
      "execution_count": null,
      "metadata": {
        "id": "2VNDq1hGOQil"
      },
      "outputs": [],
      "source": []
    },
    {
      "cell_type": "code",
      "execution_count": null,
      "metadata": {
        "id": "bUH4R3oRZVm4"
      },
      "outputs": [],
      "source": [
        "#### plot confusion matrix\n",
        "def plot_confusion_matrix(confusion_mat):\n",
        "    plt.imshow(confusion_mat,interpolation='nearest',cmap=plt.cm.Wistia)\n",
        "    plt.title('CNN Confusion Matrix',fontsize=20)\n",
        "    plt.colorbar()\n",
        "    tick_marks=np.arange(2) # class number\n",
        "    plt.xticks(tick_marks,tick_marks,fontsize=16)\n",
        "    plt.yticks(tick_marks,tick_marks,fontsize=16)\n",
        "    plt.ylabel('True Label',fontsize=16)\n",
        "    plt.xlabel('Predicted Label',fontsize=16)\n",
        "    for i in range(len(confusion_mat)):    #row\n",
        "        for j in range(len(confusion_mat[i])):    #col\n",
        "            plt.text(j, i, confusion_mat[i][j],fontsize=16) # images number of each part\n",
        "    plt.show()"
      ]
    },
    {
      "cell_type": "code",
      "execution_count": null,
      "metadata": {
        "id": "NztcdyxBZZwz",
        "colab": {
          "base_uri": "https://localhost:8080/",
          "height": 517
        },
        "outputId": "3b6ffa75-58ac-4223-d382-a2c9892252f4"
      },
      "outputs": [
        {
          "output_type": "stream",
          "name": "stderr",
          "text": [
            "<ipython-input-118-e555ec3cf5ee>:4: DeprecationWarning: `np.str` is a deprecated alias for the builtin `str`. To silence this warning, use `str` by itself. Doing this will not modify any behavior and is safe. If you specifically wanted the numpy scalar type, use `np.str_` here.\n",
            "Deprecated in NumPy 1.20; for more details and guidance: https://numpy.org/devdocs/release/1.20.0-notes.html#deprecations\n",
            "  df=pd.DataFrame(history.history,index=np.arange(0, EPOCHS).astype(dtype=np.str))\n"
          ]
        },
        {
          "output_type": "display_data",
          "data": {
            "text/plain": [
              "<Figure size 800x500 with 1 Axes>"
            ],
            "image/png": "[encoded data removed]"
          },
          "metadata": {}
        }
      ],
      "source": [
        "######################### learning curve\n",
        "\n",
        "def plot_learning_curves(history):\n",
        "    df=pd.DataFrame(history.history,index=np.arange(0, EPOCHS).astype(dtype=np.str))\n",
        "    df.plot(use_index=True,figsize=(8, 5))\n",
        "    plt.grid(True)\n",
        "\n",
        "    #plt.gca().set_ylim(0, 1)\n",
        "    plt.show()\n",
        "\n",
        "plot_learning_curves(model_details)\n"
      ]
    },
    {
      "cell_type": "code",
      "source": [
        "# Predict\n",
        "scroe, accuracy = model.evaluate(test_data, test_label[:,0], batch_size=BATCH_SIZE)\n",
        "pred_label = model.predict(test_data)\n",
        "#pred_label = [sum([i[0] for i in q]) for q in test_data]\n",
        "pred_label = np.argmax(pred_label, axis=1)\n",
        "\n",
        "\n",
        "for t in range(pred_label.shape[0]):\n",
        "    NameWrong=[]\n",
        "    labelPred=[]\n",
        "    if (pred_label[t]!=test_label[t,0]):\n",
        "        # print (test_label[t,0], test_label[t,1], pred_label[t])\n",
        "        NameWrong.append(test_label[t,1])\n",
        "        labelPred.append(pred_label[t])\n",
        "confusion_matrix = tf.math.confusion_matrix(labels=test_label[:,0],predictions=pred_label, num_classes=2, dtype=tf.int32, name=None, weights=None)\n",
        "sess=tf.compat.v1.Session()\n",
        "\n",
        "#with tf.compat.v1.Session(graph=g) as sess:\n",
        "confusion_matrix = sess.run(confusion_matrix)\n",
        "plot_confusion_matrix(confusion_matrix)\n",
        "\n",
        "#plot_learning_curves(model_details)\n",
        "precision = (confusion_matrix[0][0]/(confusion_matrix[0][0]+confusion_matrix[1][0])+confusion_matrix[1][1]/(confusion_matrix[1][1]+confusion_matrix[0][1]))/2\n",
        "recall = (confusion_matrix[0][0]/(confusion_matrix[0][0]+confusion_matrix[0][1])+confusion_matrix[1][1]/(confusion_matrix[1][1]+confusion_matrix[1][0]))/2\n",
        "F = 2*(precision*recall)/(precision+recall)\n",
        "print ('Accuracy:', '{:.4f}'.format(accuracy), 'Loss:','{:.4f}'.format(scroe), f'Precision: {precision}', f'Recall: {recall}', f'F1: {F}', 'Batch Size:', BATCH_SIZE,'Learning Rate:', LEARNING_RATE, 'Epochs:', EPOCHS)\n"
      ],
      "metadata": {
        "colab": {
          "base_uri": "https://localhost:8080/",
          "height": 564
        },
        "id": "Htb26POxbN-Y",
        "outputId": "e676b73b-c4cc-4e12-b0d1-d0bff83de6b3"
      },
      "execution_count": null,
      "outputs": [
        {
          "output_type": "stream",
          "name": "stderr",
          "text": [
            "/usr/local/lib/python3.10/dist-packages/keras/src/engine/training_v1.py:2359: UserWarning: `Model.state_updates` will be removed in a future version. This property should not be used in TensorFlow 2.0, as `updates` are applied automatically.\n",
            "  updates=self.state_updates,\n"
          ]
        },
        {
          "output_type": "display_data",
          "data": {
            "text/plain": [
              "<Figure size 640x480 with 2 Axes>"
            ],
            "image/png": "[encoded data removed]"
          },
          "metadata": {}
        },
        {
          "output_type": "stream",
          "name": "stdout",
          "text": [
            "Accuracy: 0.9790 Loss: 0.0890 Precision: 0.9792109961601487 Recall: 0.9790001222344457 F1: 0.9791055478431046 Batch Size: 64 Learning Rate: 1e-30 Epochs: 20\n"
          ]
        }
      ]
    },
    {
      "cell_type": "code",
      "execution_count": null,
      "metadata": {
        "id": "J_Am-BW0ZeSw"
      },
      "outputs": [],
      "source": []
    }
  ],
  "metadata": {
    "accelerator": "GPU",
    "colab": {
      "provenance": [],
      "gpuType": "T4",
      "include_colab_link": true
    },
    "kernelspec": {
      "display_name": "Python 3",
      "name": "python3"
    },
    "language_info": {
      "name": "python"
    }
  },
  "nbformat": 4,
  "nbformat_minor": 0
}