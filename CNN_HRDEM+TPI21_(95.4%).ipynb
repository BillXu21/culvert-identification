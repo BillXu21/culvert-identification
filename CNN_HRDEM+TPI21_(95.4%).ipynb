{
  "cells": [
    {
      "cell_type": "markdown",
      "metadata": {
        "id": "view-in-github",
        "colab_type": "text"
      },
      "source": [
        "<a href=\"https://colab.research.google.com/github/BillXu21/culvert-identification/blob/main/CNN_HRDEM%2BTPI21_(95.4%25).ipynb\" target=\"_parent\"><img src=\"https://colab.research.google.com/assets/colab-badge.svg\" alt=\"Open In Colab\"/></a>"
      ]
    },
    {
      "cell_type": "code",
      "execution_count": null,
      "metadata": {
        "id": "Xb9mOho-4Jzu"
      },
      "outputs": [],
      "source": [
        "# !pip install rasterio"
      ]
    },
    {
      "cell_type": "code",
      "execution_count": null,
      "metadata": {
        "id": "Aj8YPGiqUE2W"
      },
      "outputs": [],
      "source": []
    },
    {
      "cell_type": "code",
      "execution_count": null,
      "metadata": {
        "colab": {
          "base_uri": "https://localhost:8080/"
        },
        "id": "e4-tHPbV7Yz7",
        "outputId": "dee29605-ee90-4152-b226-8bed7ae9380c"
      },
      "outputs": [
        {
          "output_type": "stream",
          "name": "stdout",
          "text": [
            "3.10.12 (main, Nov 20 2023, 15:14:05) [GCC 11.4.0]\n"
          ]
        }
      ],
      "source": [
        "import sys\n",
        "print(sys.version)"
      ]
    },
    {
      "cell_type": "code",
      "execution_count": null,
      "metadata": {
        "colab": {
          "base_uri": "https://localhost:8080/"
        },
        "id": "z1aSvmuWO8gT",
        "outputId": "84b39c61-a6d4-42a7-c657-b3a9d7ddaec5"
      },
      "outputs": [
        {
          "output_type": "stream",
          "name": "stdout",
          "text": [
            "2.15.0\n"
          ]
        }
      ],
      "source": [
        "import tensorflow as tf\n",
        "print(tf.__version__)"
      ]
    },
    {
      "cell_type": "code",
      "execution_count": null,
      "metadata": {
        "id": "IitySReDO9VA"
      },
      "outputs": [],
      "source": [
        "import os\n",
        "os.environ[\"CUDA_VISIBLE_DEVICES\"] = \"0\"\n",
        "\n",
        "from skimage import io\n",
        "import glob\n",
        "\n",
        "from sklearn.model_selection import train_test_split\n",
        "# import tensorflow as tf\n",
        "\n",
        "import tensorflow as tf\n",
        "\n",
        "import numpy as np\n",
        "import pandas as pd\n",
        "\n",
        "\n",
        "#from tensorflow.keras.callbacks import TensorBoard\n",
        "from tensorflow.compat.v1.keras.models import Sequential\n",
        "from tensorflow.compat.v1.keras.layers import *\n",
        "from tensorflow.compat.v1.keras.layers import BatchNormalization\n",
        "from tensorflow.compat.v1.keras.layers import Dense, Dropout, Flatten, Activation\n",
        "from tensorflow.compat.v1.keras.layers import Convolution2D, MaxPooling2D, AveragePooling2D\n",
        "from tensorflow.compat.v1.keras.optimizers import Adadelta, Adam\n",
        "from tensorflow.compat.v1.keras.callbacks import ModelCheckpoint\n",
        "from tensorflow import keras\n",
        "\n",
        "from sklearn.preprocessing import MinMaxScaler\n",
        "\n",
        "#from tensorflow.keras import callbacks\n",
        "import matplotlib.pyplot as plt\n",
        "\n",
        "tf.compat.v1.disable_eager_execution()"
      ]
    },
    {
      "cell_type": "code",
      "execution_count": null,
      "metadata": {
        "id": "8lB4bvyaYbl3",
        "colab": {
          "base_uri": "https://localhost:8080/"
        },
        "outputId": "326e5632-ff3b-4092-d8ed-1356c38d422b"
      },
      "outputs": [
        {
          "output_type": "stream",
          "name": "stdout",
          "text": [
            "Drive already mounted at /content/drive; to attempt to forcibly remount, call drive.mount(\"/content/drive\", force_remount=True).\n"
          ]
        }
      ],
      "source": [
        "from google.colab import drive\n",
        "drive.mount('/content/drive')"
      ]
    },
    {
      "cell_type": "code",
      "execution_count": null,
      "metadata": {
        "id": "jlHDhDKcPCnP"
      },
      "outputs": [],
      "source": [
        "path='/content/drive/MyDrive/WFBBDEM/WFBBDEM+/'   #DEM\n",
        "\n",
        "# using one watershed to train model, 3 of them to test\n",
        "pathTrain='WFBBDEM_Train/'\n",
        "pathTest1='WFBBDEM_Test/'\n",
        "ca = 'CADEM/'\n",
        "il = 'ILDEM/'\n",
        "nd = 'NDDEM/'\n",
        "newfbb = 'NEWFBB_DEM/'"
      ]
    },
    {
      "cell_type": "code",
      "execution_count": null,
      "metadata": {
        "id": "z_9MeDbA94s6"
      },
      "outputs": [],
      "source": []
    },
    {
      "cell_type": "code",
      "execution_count": null,
      "metadata": {
        "id": "Q1dZM1okU_Ay"
      },
      "outputs": [],
      "source": [
        "# import rasterio as rio\n",
        "# def read_img(path):\n",
        "#     cate=[path+x for x in os.listdir(path) if os.path.isdir(path+x)] # get F,T folder\n",
        "#     imgs=[]\n",
        "#     labels=[]\n",
        "#     imgs_name=[]\n",
        "#     for idx,folder in enumerate(cate): # idx-> 0:F; 1:T; folder-> F,T\n",
        "#         print(idx,folder)\n",
        "#         for im in glob.glob(folder+\"/*.tif\"):\n",
        "#             im = im.replace('\\\\','/')\n",
        "# #            print('reading the images:%s'%(im))\n",
        "\n",
        "#             img_name=os.path.basename(im)\n",
        "#             img_name=os.path.splitext(img_name)[0] # get file name\n",
        "\n",
        "#             #img=io.imread(im)\n",
        "#             with rio.open(im) as i:\n",
        "#               img = i.read()\n",
        "#             # Normalize the dataset-MaxMin\n",
        "#             img = np.squeeze(img)\n",
        "#             scaler = MinMaxScaler(feature_range=(0, 1))\n",
        "#             img = scaler.fit_transform(img)\n",
        "\n",
        "#             imgs.append(img)\n",
        "#             labels.append(idx)\n",
        "#             imgs_name.append(img_name) # image name\n",
        "\n",
        "#     return np.asarray(imgs,np.float32),np.asarray(labels,np.int32), np.asarray(imgs_name)\n",
        "\n",
        "# data1,label1,name1=read_img('/content/drive/MyDrive/WFBBDEM/WFBBDEM+/NEWFBB_DEM/TPI_21_DATA/')"
      ]
    },
    {
      "cell_type": "code",
      "execution_count": null,
      "metadata": {
        "id": "p4NVfVChYbUw"
      },
      "outputs": [],
      "source": []
    },
    {
      "cell_type": "code",
      "execution_count": null,
      "metadata": {
        "id": "GHa-R4jfxEfh"
      },
      "outputs": [],
      "source": [
        "# import pickle\n",
        "# with open('/content/drive/MyDrive/WFBBDEM/WFBBDEM+/NEWFBB_DEM/TPI_21_DATA/data','wb') as fin: pickle.dump(data1,fin)\n",
        "# with open('/content/drive/MyDrive/WFBBDEM/WFBBDEM+/NEWFBB_DEM/TPI_21_DATA/label','wb') as fin: pickle.dump(label1,fin)\n",
        "# with open('/content/drive/MyDrive/WFBBDEM/WFBBDEM+/NEWFBB_DEM/TPI_21_DATA/name','wb') as fin: pickle.dump(name1,fin)"
      ]
    },
    {
      "cell_type": "code",
      "execution_count": null,
      "metadata": {
        "id": "R2l3OoRIwGJw"
      },
      "outputs": [],
      "source": [
        "import pickle\n",
        "with open('/content/drive/MyDrive/WFBBDEM/WFBBDEM+/NEWFBB_DEM/TPI_21_DATA/data','rb') as fin: data1 = pickle.load(fin)\n",
        "with open('/content/drive/MyDrive/WFBBDEM/WFBBDEM+/NEWFBB_DEM/TPI_21_DATA/label','rb') as fin: label1 = pickle.load(fin)\n",
        "with open('/content/drive/MyDrive/WFBBDEM/WFBBDEM+/NEWFBB_DEM/TPI_21_DATA/name','rb') as fin: name1 = pickle.load(fin)\n",
        "\n",
        "with open('/content/drive/MyDrive/WFBBDEM/WFBBDEM+/NEWFBB_DEM/NEWFBB_DEM/data','rb') as fin: data5 = pickle.load(fin)\n",
        "with open('/content/drive/MyDrive/WFBBDEM/WFBBDEM+/NEWFBB_DEM/NEWFBB_DEM/label','rb') as fin: label5 = pickle.load(fin)\n",
        "with open('/content/drive/MyDrive/WFBBDEM/WFBBDEM+/NEWFBB_DEM/NEWFBB_DEM/name','rb') as fin: name5 = pickle.load(fin)"
      ]
    },
    {
      "cell_type": "code",
      "execution_count": null,
      "metadata": {
        "id": "JlXZGMBZ5q5C"
      },
      "outputs": [],
      "source": []
    },
    {
      "cell_type": "code",
      "execution_count": null,
      "metadata": {
        "id": "ZfMMT_xBus7x"
      },
      "outputs": [],
      "source": [
        "datas = [[data1,label1,name1],[data5,label5,name5]]"
      ]
    },
    {
      "cell_type": "code",
      "execution_count": null,
      "metadata": {
        "id": "WYP4P6g30exU"
      },
      "outputs": [],
      "source": []
    },
    {
      "cell_type": "code",
      "execution_count": null,
      "metadata": {
        "id": "5Ggf632H0Ym7"
      },
      "outputs": [],
      "source": [
        "#data=np.expand_dims(data,3) # add channel dimension, 4D\n",
        "temp = []\n",
        "for data,label,name in datas:\n",
        "  #data = np.repeat(data[..., np.newaxis], 3, -1)\n",
        "\n",
        "  labelN=label.shape[0]\n",
        "\n",
        "\n",
        "  label_name=np.empty((labelN,2),dtype=int) # label + name\n",
        "  for i in range(labelN):\n",
        "      label_name[i,0]=label[i] # label\n",
        "      if (name[i].isdigit()):\n",
        "          name[i]=name[i]\n",
        "      else:\n",
        "          name[i]=name[i][1:] # only keep number, delete first letter\n",
        "      name[i] = name[i].split()[0]\n",
        "      label_name[i,1]=name[i]\n",
        "  temp.append([data,label,name,label_name])\n",
        "datas = temp"
      ]
    },
    {
      "cell_type": "code",
      "execution_count": null,
      "metadata": {
        "id": "IceuyUd6PwRX"
      },
      "outputs": [],
      "source": [
        "data = []\n",
        "for i in datas:\n",
        "  temp = list(sorted(zip(*map(list,i)),key=lambda x:x[2]))\n",
        "  data.append(temp)\n",
        "datas = data"
      ]
    },
    {
      "cell_type": "code",
      "source": [],
      "metadata": {
        "id": "ZJHAgVYFen3a"
      },
      "execution_count": null,
      "outputs": []
    },
    {
      "cell_type": "code",
      "execution_count": null,
      "metadata": {
        "id": "Tp57KNqaBd0Z"
      },
      "outputs": [],
      "source": [
        "tt = list(zip(*datas))\n",
        "data = np.asarray([[i[0] for i in q] for q in tt])\n",
        "\n",
        "label_name = [q[0][3] for q in tt]"
      ]
    },
    {
      "cell_type": "code",
      "execution_count": null,
      "metadata": {
        "id": "X0g8flSE5HaW",
        "colab": {
          "base_uri": "https://localhost:8080/"
        },
        "outputId": "a89aa68e-542c-4db5-e9b8-69139bbaab53"
      },
      "outputs": [
        {
          "output_type": "execute_result",
          "data": {
            "text/plain": [
              "(4044, 2, 100, 100)"
            ]
          },
          "metadata": {},
          "execution_count": 134
        }
      ],
      "source": [
        "data.shape"
      ]
    },
    {
      "cell_type": "code",
      "execution_count": null,
      "metadata": {
        "id": "FChpf7J0vtCP"
      },
      "outputs": [],
      "source": []
    },
    {
      "cell_type": "code",
      "execution_count": null,
      "metadata": {
        "id": "rkQC241_Q-1B"
      },
      "outputs": [],
      "source": [
        "train_data,test_data,train_label,test_label = train_test_split(data,label_name,test_size=0.2,stratify=label)"
      ]
    },
    {
      "cell_type": "code",
      "execution_count": null,
      "metadata": {
        "id": "FuTEcvzz_Fwq",
        "colab": {
          "base_uri": "https://localhost:8080/"
        },
        "outputId": "88d6b81f-49a0-47dd-b793-6fb3deaaf76e"
      },
      "outputs": [
        {
          "output_type": "execute_result",
          "data": {
            "text/plain": [
              "(3235, 2, 100, 100)"
            ]
          },
          "metadata": {},
          "execution_count": 136
        }
      ],
      "source": [
        "train_data.shape"
      ]
    },
    {
      "cell_type": "code",
      "execution_count": null,
      "metadata": {
        "id": "7fByzn_P-9Nb"
      },
      "outputs": [],
      "source": [
        "# creat CNN model\n",
        "def createCNN():\n",
        "    inputs = [keras.layers.Input(shape = (100,100,1)) for i in range(2)]\n",
        "    merged = keras.layers.Concatenate()(inputs)\n",
        "    a = Convolution2D(128,3,3,padding='same')(merged)\n",
        "    b = BatchNormalization()(a)\n",
        "    c = Activation('relu')(b)\n",
        "    d = Dropout(0.3)(c)\n",
        "\n",
        "    e = Convolution2D(256,3,3,padding='same')(d)\n",
        "    f = BatchNormalization()(e)\n",
        "    g = Activation('relu')(f)\n",
        "    h = Dropout(0.3)(g)\n",
        "\n",
        "    i = Convolution2D(512,3,3,padding='same')(h)\n",
        "    j = BatchNormalization()(i)\n",
        "    k = Activation('relu')(j)\n",
        "    l = Dropout(0.3)(k)\n",
        "\n",
        "    flat = Flatten()(l)\n",
        "\n",
        "    m = Dense(512,activation = 'relu')(flat)\n",
        "    n = Dropout(0.5)(m)\n",
        "    o = Dense(128,activation = 'relu')(n)\n",
        "    p = Dropout(0.5)(o)\n",
        "    q = Dense(32,activation = 'relu')(p)\n",
        "    r = Dropout(0.5)(q)\n",
        "    s = Dense(2,activation = 'softmax')(r)\n",
        "\n",
        "    model = keras.models.Model(inputs = inputs, outputs = s)\n",
        "\n",
        "    # model.summary()\n",
        "\n",
        "    return model"
      ]
    },
    {
      "cell_type": "code",
      "source": [
        "train_data.shape"
      ],
      "metadata": {
        "id": "ookRZxHAtQii",
        "colab": {
          "base_uri": "https://localhost:8080/"
        },
        "outputId": "1135abbc-8d22-47c7-89d4-a3c57c4f2e7a"
      },
      "execution_count": null,
      "outputs": [
        {
          "output_type": "execute_result",
          "data": {
            "text/plain": [
              "(3235, 2, 100, 100)"
            ]
          },
          "metadata": {},
          "execution_count": 138
        }
      ]
    },
    {
      "cell_type": "code",
      "source": [
        "train_data = np.expand_dims(train_data,axis=4)"
      ],
      "metadata": {
        "id": "9zoBlQpPIvFd"
      },
      "execution_count": null,
      "outputs": []
    },
    {
      "cell_type": "code",
      "source": [
        "train_label[0]"
      ],
      "metadata": {
        "id": "9560E73YJeN9",
        "colab": {
          "base_uri": "https://localhost:8080/"
        },
        "outputId": "a2b99d9e-a0e1-46db-c501-333395fd94ff"
      },
      "execution_count": null,
      "outputs": [
        {
          "output_type": "execute_result",
          "data": {
            "text/plain": [
              "array([   0, 1825])"
            ]
          },
          "metadata": {},
          "execution_count": 140
        }
      ]
    },
    {
      "cell_type": "code",
      "source": [],
      "metadata": {
        "id": "lDzT7Q_tyfDR"
      },
      "execution_count": null,
      "outputs": []
    },
    {
      "cell_type": "code",
      "execution_count": null,
      "metadata": {
        "id": "8IvCqRb7Hi_W",
        "colab": {
          "base_uri": "https://localhost:8080/"
        },
        "outputId": "8791ce0a-4029-4397-e90c-dced3ecfe2e8"
      },
      "outputs": [
        {
          "output_type": "stream",
          "name": "stderr",
          "text": [
            "/usr/local/lib/python3.10/dist-packages/keras/src/optimizers/legacy/adam.py:118: UserWarning: The `lr` argument is deprecated, use `learning_rate` instead.\n",
            "  super().__init__(name, **kwargs)\n"
          ]
        }
      ],
      "source": [
        "LEARNING_RATE = 1e-12\n",
        "BATCH_SIZE = 64\n",
        "EPOCHS = 20\n",
        "\n",
        "\n",
        "model = createCNN()\n",
        "\n",
        "model.load_weights('/content/drive/MyDrive/WFBBDEM/WFBBDEM+/NEWFBB_DEM/Model2CNN.h5')\n",
        "\n",
        "model.compile(loss='sparse_categorical_crossentropy',\n",
        "              optimizer=Adam(lr=LEARNING_RATE),\n",
        "              metrics=['accuracy'])"
      ]
    },
    {
      "cell_type": "code",
      "execution_count": null,
      "metadata": {
        "id": "LEvOhh6Q2X17"
      },
      "outputs": [],
      "source": []
    },
    {
      "cell_type": "code",
      "execution_count": null,
      "metadata": {
        "id": "aTgSdRtFtNKL"
      },
      "outputs": [],
      "source": []
    },
    {
      "cell_type": "code",
      "execution_count": null,
      "metadata": {
        "id": "xD0NF7XK5nFf",
        "colab": {
          "base_uri": "https://localhost:8080/"
        },
        "outputId": "3763f7f0-440d-4cd6-92d8-2ebd3cc356dc"
      },
      "outputs": [
        {
          "output_type": "execute_result",
          "data": {
            "text/plain": [
              "5481"
            ]
          },
          "metadata": {},
          "execution_count": 142
        }
      ],
      "source": [
        "import gc\n",
        "gc.collect()"
      ]
    },
    {
      "cell_type": "code",
      "execution_count": null,
      "metadata": {
        "id": "AQuZ1grkGmmq"
      },
      "outputs": [],
      "source": []
    },
    {
      "cell_type": "code",
      "execution_count": null,
      "metadata": {
        "id": "yixusNLjISRs"
      },
      "outputs": [],
      "source": [
        "from itertools import chain"
      ]
    },
    {
      "cell_type": "code",
      "execution_count": null,
      "metadata": {
        "id": "F-0mGbovjyqE",
        "colab": {
          "base_uri": "https://localhost:8080/"
        },
        "outputId": "9e86267e-3a1c-4011-a1ea-64e073750fee"
      },
      "outputs": [
        {
          "output_type": "execute_result",
          "data": {
            "text/plain": [
              "(3235,)"
            ]
          },
          "metadata": {},
          "execution_count": 144
        }
      ],
      "source": [
        "np.asarray(train_label)[:,0].shape"
      ]
    },
    {
      "cell_type": "code",
      "execution_count": null,
      "metadata": {
        "id": "fNTZfDiiHmij",
        "colab": {
          "base_uri": "https://localhost:8080/"
        },
        "outputId": "82988e81-c99b-44c0-91db-df708b356124"
      },
      "outputs": [
        {
          "output_type": "stream",
          "name": "stdout",
          "text": [
            "Train on 2588 samples, validate on 647 samples\n",
            "Epoch 1/20\n",
            "2560/2588 [============================>.] - ETA: 0s - loss: 0.2044 - accuracy: 0.9211"
          ]
        },
        {
          "output_type": "stream",
          "name": "stderr",
          "text": [
            "/usr/local/lib/python3.10/dist-packages/keras/src/engine/training_v1.py:2335: UserWarning: `Model.state_updates` will be removed in a future version. This property should not be used in TensorFlow 2.0, as `updates` are applied automatically.\n",
            "  updates = self.state_updates\n"
          ]
        },
        {
          "output_type": "stream",
          "name": "stdout",
          "text": [
            "\n",
            "Epoch 1: val_accuracy improved from -inf to 0.96291, saving model to /content/drive/MyDrive/WFBBDEM/WFBBDEM+/NEWFBB_DEM/Model2CNN1.h5\n",
            "2588/2588 [==============================] - 6s 2ms/sample - loss: 0.2040 - accuracy: 0.9208 - val_loss: 0.1123 - val_accuracy: 0.9629\n",
            "Epoch 2/20\n",
            "2560/2588 [============================>.] - ETA: 0s - loss: 0.2185 - accuracy: 0.9207\n",
            "Epoch 2: val_accuracy did not improve from 0.96291\n",
            "2588/2588 [==============================] - 2s 907us/sample - loss: 0.2165 - accuracy: 0.9216 - val_loss: 0.1124 - val_accuracy: 0.9629\n",
            "Epoch 3/20\n",
            "2560/2588 [============================>.] - ETA: 0s - loss: 0.2093 - accuracy: 0.9211\n",
            "Epoch 3: val_accuracy did not improve from 0.96291\n",
            "2588/2588 [==============================] - 2s 753us/sample - loss: 0.2097 - accuracy: 0.9216 - val_loss: 0.1124 - val_accuracy: 0.9614\n",
            "Epoch 4/20\n",
            "2588/2588 [==============================] - ETA: 0s - loss: 0.2145 - accuracy: 0.9200\n",
            "Epoch 4: val_accuracy did not improve from 0.96291\n",
            "2588/2588 [==============================] - 2s 748us/sample - loss: 0.2145 - accuracy: 0.9200 - val_loss: 0.1125 - val_accuracy: 0.9614\n",
            "Epoch 5/20\n",
            "2588/2588 [==============================] - ETA: 0s - loss: 0.2007 - accuracy: 0.9281\n",
            "Epoch 5: val_accuracy did not improve from 0.96291\n",
            "2588/2588 [==============================] - 2s 752us/sample - loss: 0.2007 - accuracy: 0.9281 - val_loss: 0.1126 - val_accuracy: 0.9614\n",
            "Epoch 6/20\n",
            "2560/2588 [============================>.] - ETA: 0s - loss: 0.2056 - accuracy: 0.9176\n",
            "Epoch 6: val_accuracy did not improve from 0.96291\n",
            "2588/2588 [==============================] - 2s 757us/sample - loss: 0.2052 - accuracy: 0.9181 - val_loss: 0.1126 - val_accuracy: 0.9629\n",
            "Epoch 7/20\n",
            "2588/2588 [==============================] - ETA: 0s - loss: 0.2067 - accuracy: 0.9312\n",
            "Epoch 7: val_accuracy did not improve from 0.96291\n",
            "2588/2588 [==============================] - 2s 747us/sample - loss: 0.2067 - accuracy: 0.9312 - val_loss: 0.1126 - val_accuracy: 0.9614\n",
            "Epoch 8/20\n",
            "2560/2588 [============================>.] - ETA: 0s - loss: 0.2061 - accuracy: 0.9277\n",
            "Epoch 8: val_accuracy did not improve from 0.96291\n",
            "2588/2588 [==============================] - 2s 895us/sample - loss: 0.2052 - accuracy: 0.9285 - val_loss: 0.1126 - val_accuracy: 0.9614\n",
            "Epoch 9/20\n",
            "2560/2588 [============================>.] - ETA: 0s - loss: 0.2225 - accuracy: 0.9207\n",
            "Epoch 9: val_accuracy did not improve from 0.96291\n",
            "2588/2588 [==============================] - 2s 889us/sample - loss: 0.2220 - accuracy: 0.9204 - val_loss: 0.1126 - val_accuracy: 0.9629\n",
            "Epoch 10/20\n",
            "2560/2588 [============================>.] - ETA: 0s - loss: 0.2042 - accuracy: 0.9273\n",
            "Epoch 10: val_accuracy did not improve from 0.96291\n",
            "2588/2588 [==============================] - 2s 817us/sample - loss: 0.2045 - accuracy: 0.9270 - val_loss: 0.1126 - val_accuracy: 0.9614\n",
            "Epoch 11/20\n",
            "2588/2588 [==============================] - ETA: 0s - loss: 0.1984 - accuracy: 0.9243\n",
            "Epoch 11: val_accuracy did not improve from 0.96291\n",
            "2588/2588 [==============================] - 2s 748us/sample - loss: 0.1984 - accuracy: 0.9243 - val_loss: 0.1126 - val_accuracy: 0.9614\n",
            "Epoch 12/20\n",
            "2560/2588 [============================>.] - ETA: 0s - loss: 0.2083 - accuracy: 0.9277\n",
            "Epoch 12: val_accuracy did not improve from 0.96291\n",
            "2588/2588 [==============================] - 2s 748us/sample - loss: 0.2123 - accuracy: 0.9274 - val_loss: 0.1126 - val_accuracy: 0.9629\n",
            "Epoch 13/20\n",
            "2588/2588 [==============================] - ETA: 0s - loss: 0.2082 - accuracy: 0.9262\n",
            "Epoch 13: val_accuracy did not improve from 0.96291\n",
            "2588/2588 [==============================] - 2s 746us/sample - loss: 0.2082 - accuracy: 0.9262 - val_loss: 0.1126 - val_accuracy: 0.9629\n",
            "Epoch 14/20\n",
            "2588/2588 [==============================] - ETA: 0s - loss: 0.1945 - accuracy: 0.9274\n",
            "Epoch 14: val_accuracy did not improve from 0.96291\n",
            "2588/2588 [==============================] - 2s 758us/sample - loss: 0.1945 - accuracy: 0.9274 - val_loss: 0.1127 - val_accuracy: 0.9629\n",
            "Epoch 15/20\n",
            "2560/2588 [============================>.] - ETA: 0s - loss: 0.2051 - accuracy: 0.9266\n",
            "Epoch 15: val_accuracy did not improve from 0.96291\n",
            "2588/2588 [==============================] - 2s 806us/sample - loss: 0.2044 - accuracy: 0.9266 - val_loss: 0.1127 - val_accuracy: 0.9629\n",
            "Epoch 16/20\n",
            "2560/2588 [============================>.] - ETA: 0s - loss: 0.2189 - accuracy: 0.9215\n",
            "Epoch 16: val_accuracy did not improve from 0.96291\n",
            "2588/2588 [==============================] - 2s 879us/sample - loss: 0.2190 - accuracy: 0.9216 - val_loss: 0.1127 - val_accuracy: 0.9629\n",
            "Epoch 17/20\n",
            "2560/2588 [============================>.] - ETA: 0s - loss: 0.2125 - accuracy: 0.9285\n",
            "Epoch 17: val_accuracy did not improve from 0.96291\n",
            "2588/2588 [==============================] - 2s 891us/sample - loss: 0.2116 - accuracy: 0.9285 - val_loss: 0.1127 - val_accuracy: 0.9629\n",
            "Epoch 18/20\n",
            "2560/2588 [============================>.] - ETA: 0s - loss: 0.2082 - accuracy: 0.9254\n",
            "Epoch 18: val_accuracy did not improve from 0.96291\n",
            "2588/2588 [==============================] - 2s 770us/sample - loss: 0.2086 - accuracy: 0.9250 - val_loss: 0.1126 - val_accuracy: 0.9614\n",
            "Epoch 19/20\n",
            "2588/2588 [==============================] - ETA: 0s - loss: 0.2049 - accuracy: 0.9266\n",
            "Epoch 19: val_accuracy did not improve from 0.96291\n",
            "2588/2588 [==============================] - 2s 756us/sample - loss: 0.2049 - accuracy: 0.9266 - val_loss: 0.1126 - val_accuracy: 0.9614\n",
            "Epoch 20/20\n",
            "2560/2588 [============================>.] - ETA: 0s - loss: 0.2081 - accuracy: 0.9227\n",
            "Epoch 20: val_accuracy did not improve from 0.96291\n",
            "2588/2588 [==============================] - 2s 746us/sample - loss: 0.2067 - accuracy: 0.9231 - val_loss: 0.1126 - val_accuracy: 0.9614\n"
          ]
        }
      ],
      "source": [
        "OUT_DIR = \"/content/drive/MyDrive/WFBBDEM/WFBBDEM+/NEWFBB_DEM\"\n",
        "checkpoint = ModelCheckpoint(os.path.join(OUT_DIR, 'Model2CNN1.h5'),  # model filename\n",
        "                              monitor='val_accuracy', # quantity to monitor\n",
        "                              verbose=1, # verbosity - 0 or 1\n",
        "                              save_best_only= True, # The latest best model will not be overwritten\n",
        "                              save_weights_only=True, # save model, not only weights\n",
        "                              mode='auto') # The decision to overwrite model is made\n",
        "                                            # automatically depending on the quantity to monitor\n",
        "\n",
        "model_details = model.fit([train_data[:,i] for i in range(2)], np.asarray(train_label)[:,0],\n",
        "                          batch_size = BATCH_SIZE,\n",
        "                          epochs = EPOCHS,\n",
        "                          validation_split=0.2,\n",
        "                          callbacks=[checkpoint],\n",
        "                          verbose=1)\n"
      ]
    },
    {
      "cell_type": "code",
      "execution_count": null,
      "metadata": {
        "id": "OtkAhGVC_YgB"
      },
      "outputs": [],
      "source": [
        "def plot_confusion_matrix(confusion_mat):\n",
        "    plt.imshow(confusion_mat,interpolation='nearest',cmap=plt.cm.Wistia)\n",
        "    plt.title('CNN Confusion Matrix',fontsize=20)\n",
        "    plt.colorbar()\n",
        "    tick_marks=np.arange(2) # class number\n",
        "    plt.xticks(tick_marks,tick_marks,fontsize=16)\n",
        "    plt.yticks(tick_marks,tick_marks,fontsize=16)\n",
        "    plt.ylabel('True Label',fontsize=16)\n",
        "    plt.xlabel('Predicted Label',fontsize=16)\n",
        "    for i in range(len(confusion_mat)):    #row\n",
        "        for j in range(len(confusion_mat[i])):    #col\n",
        "            plt.text(j, i, confusion_mat[i][j],fontsize=16) # images number of each part\n",
        "    plt.show()\n",
        "\n",
        "def plot_learning_curves(history):\n",
        "    df=pd.DataFrame(history.history,index=np.arange(0, EPOCHS).astype(dtype=np.str))\n",
        "    df.plot(use_index=True,figsize=(8, 5))\n",
        "    plt.grid(True)\n",
        "\n",
        "    #plt.gca().set_ylim(0, 1)\n",
        "    plt.show()"
      ]
    },
    {
      "cell_type": "code",
      "execution_count": null,
      "metadata": {
        "id": "PmdRH50NV6VK"
      },
      "outputs": [],
      "source": []
    },
    {
      "cell_type": "code",
      "execution_count": null,
      "metadata": {
        "id": "1LtDK9RVLqPn"
      },
      "outputs": [],
      "source": [
        "test_label = np.asarray(test_label)"
      ]
    },
    {
      "cell_type": "code",
      "execution_count": null,
      "metadata": {
        "id": "w37I_pd0lkPM"
      },
      "outputs": [],
      "source": []
    },
    {
      "cell_type": "code",
      "execution_count": null,
      "metadata": {
        "id": "y8l4ZK0imMYQ"
      },
      "outputs": [],
      "source": [
        "test_data = np.expand_dims(test_data,4)"
      ]
    },
    {
      "cell_type": "code",
      "execution_count": null,
      "metadata": {
        "id": "w0B_go4RZTCe",
        "colab": {
          "base_uri": "https://localhost:8080/",
          "height": 564
        },
        "outputId": "6faba3fd-e73e-4080-8513-d827a6406014"
      },
      "outputs": [
        {
          "output_type": "stream",
          "name": "stderr",
          "text": [
            "/usr/local/lib/python3.10/dist-packages/keras/src/engine/training_v1.py:2359: UserWarning: `Model.state_updates` will be removed in a future version. This property should not be used in TensorFlow 2.0, as `updates` are applied automatically.\n",
            "  updates=self.state_updates,\n"
          ]
        },
        {
          "output_type": "display_data",
          "data": {
            "text/plain": [
              "<Figure size 640x480 with 2 Axes>"
            ],
            "image/png": "[encoded data removed]"
          },
          "metadata": {}
        },
        {
          "output_type": "stream",
          "name": "stdout",
          "text": [
            "Accuracy: 0.9543 Loss: 0.1136 Precision: 0.9544551368271748 Recall: 0.9543051498001442 F1: 0.9543801374208011 Batch Size: 64 Learning Rate: 1e-12 Epochs: 20\n"
          ]
        }
      ],
      "source": [
        "# Predict\n",
        "scroe, accuracy = model.evaluate([test_data[:,i] for i in range(2)], test_label[:,0], batch_size=BATCH_SIZE)\n",
        "pred_label = model.predict([test_data[:,i] for i in range(2)])\n",
        "#pred_label = [sum([i[0] for i in q]) for q in test_data]\n",
        "pred_label = np.argmax(pred_label, axis=1)\n",
        "\n",
        "\n",
        "for t in range(pred_label.shape[0]):\n",
        "    NameWrong=[]\n",
        "    labelPred=[]\n",
        "    if (pred_label[t]!=test_label[t,0]):\n",
        "        # print (test_label[t,0], test_label[t,1], pred_label[t])\n",
        "        NameWrong.append(test_label[t,1])\n",
        "        labelPred.append(pred_label[t])\n",
        "confusion_matrix = tf.math.confusion_matrix(labels=test_label[:,0],predictions=pred_label, num_classes=2, dtype=tf.int32, name=None, weights=None)\n",
        "sess=tf.compat.v1.Session()\n",
        "\n",
        "#with tf.compat.v1.Session(graph=g) as sess:\n",
        "confusion_matrix = sess.run(confusion_matrix)\n",
        "plot_confusion_matrix(confusion_matrix)\n",
        "\n",
        "#plot_learning_curves(model_details)\n",
        "precision = (confusion_matrix[0][0]/(confusion_matrix[0][0]+confusion_matrix[1][0])+confusion_matrix[1][1]/(confusion_matrix[1][1]+confusion_matrix[0][1]))/2\n",
        "recall = (confusion_matrix[0][0]/(confusion_matrix[0][0]+confusion_matrix[0][1])+confusion_matrix[1][1]/(confusion_matrix[1][1]+confusion_matrix[1][0]))/2\n",
        "F = 2*(precision*recall)/(precision+recall)\n",
        "print ('Accuracy:', '{:.4f}'.format(accuracy), 'Loss:','{:.4f}'.format(scroe), f'Precision: {precision}', f'Recall: {recall}', f'F1: {F}', 'Batch Size:', BATCH_SIZE,'Learning Rate:', LEARNING_RATE, 'Epochs:', EPOCHS)\n"
      ]
    },
    {
      "cell_type": "code",
      "source": [
        "lol"
      ],
      "metadata": {
        "id": "iNrhMNmbxEmm",
        "colab": {
          "base_uri": "https://localhost:8080/",
          "height": 175
        },
        "outputId": "c9167bb4-18df-4b28-97be-12c4c92d053a"
      },
      "execution_count": null,
      "outputs": [
        {
          "output_type": "error",
          "ename": "NameError",
          "evalue": "name 'lol' is not defined",
          "traceback": [
            "\u001b[0;31m---------------------------------------------------------------------------\u001b[0m",
            "\u001b[0;31mNameError\u001b[0m                                 Traceback (most recent call last)",
            "\u001b[0;32m<ipython-input-150-6d9627000451>\u001b[0m in \u001b[0;36m<cell line: 1>\u001b[0;34m()\u001b[0m\n\u001b[0;32m----> 1\u001b[0;31m \u001b[0mlol\u001b[0m\u001b[0;34m\u001b[0m\u001b[0;34m\u001b[0m\u001b[0m\n\u001b[0m",
            "\u001b[0;31mNameError\u001b[0m: name 'lol' is not defined"
          ]
        }
      ]
    },
    {
      "cell_type": "code",
      "source": [
        "for i in range(2):\n",
        "  s = 0\n",
        "  test = test_data.copy()\n",
        "  for q in range(100):\n",
        "    np.random.shuffle(test[:,i])\n",
        "    scroe, accuracy = model.evaluate([test[:,i] for i in range(2)], test_label[:,0], batch_size=512)\n",
        "    s += .9419-accuracy\n",
        "  print(s/100)"
      ],
      "metadata": {
        "id": "v0A2OkmqjST_"
      },
      "execution_count": null,
      "outputs": []
    },
    {
      "cell_type": "code",
      "execution_count": null,
      "metadata": {
        "id": "oCMitqCAH0DD"
      },
      "outputs": [],
      "source": [
        "x_test = test_data\n",
        "y_test = test_label[:,0]"
      ]
    },
    {
      "cell_type": "code",
      "execution_count": null,
      "metadata": {
        "id": "BbJRYNjtjAA-"
      },
      "outputs": [],
      "source": [
        "lol"
      ]
    },
    {
      "cell_type": "code",
      "execution_count": null,
      "metadata": {
        "id": "3V3d8Y7A9MgH"
      },
      "outputs": [],
      "source": []
    },
    {
      "cell_type": "code",
      "execution_count": null,
      "metadata": {
        "id": "lDlV6oDEL0KB"
      },
      "outputs": [],
      "source": [
        "!pip install shap"
      ]
    },
    {
      "cell_type": "code",
      "execution_count": null,
      "metadata": {
        "id": "uzgfscXri4sE"
      },
      "outputs": [],
      "source": [
        "import shap\n",
        "explainer = shap.DeepExplainer(model,[test_data[:50,i] for i in range(5)])\n",
        "shap.initjs()"
      ]
    },
    {
      "cell_type": "code",
      "source": [],
      "metadata": {
        "id": "1Y2Zq4TNFxVe"
      },
      "execution_count": null,
      "outputs": []
    },
    {
      "cell_type": "code",
      "execution_count": null,
      "metadata": {
        "id": "KJayLg6dujtt"
      },
      "outputs": [],
      "source": [
        "shap_value = explainer.shap_values([test_data[:1,i] for i in range(5)])\n",
        "shap_value = np.squeeze(np.asarray(shap_value))"
      ]
    },
    {
      "cell_type": "code",
      "source": [],
      "metadata": {
        "id": "-KcZYqmHJkmt"
      },
      "execution_count": null,
      "outputs": []
    },
    {
      "cell_type": "code",
      "execution_count": null,
      "metadata": {
        "id": "_Axpywm_yukp"
      },
      "outputs": [],
      "source": [
        "shap_value.shape"
      ]
    },
    {
      "cell_type": "code",
      "execution_count": null,
      "metadata": {
        "id": "sXqFkBkcmcYf"
      },
      "outputs": [],
      "source": []
    },
    {
      "cell_type": "code",
      "execution_count": null,
      "metadata": {
        "id": "aVdK200FUc_t"
      },
      "outputs": [],
      "source": [
        "shap.summary_plot(shap_value[1])"
      ]
    },
    {
      "cell_type": "code",
      "execution_count": null,
      "metadata": {
        "id": "2O9s7WV-6vpJ"
      },
      "outputs": [],
      "source": [
        "test_data.shape"
      ]
    },
    {
      "cell_type": "code",
      "execution_count": null,
      "metadata": {
        "id": "josevmPN6qs3"
      },
      "outputs": [],
      "source": [
        "shap_value.shape"
      ]
    },
    {
      "cell_type": "code",
      "source": [
        "test_data.shape"
      ],
      "metadata": {
        "id": "cqp9ZC37n0_C"
      },
      "execution_count": null,
      "outputs": []
    },
    {
      "cell_type": "code",
      "execution_count": null,
      "metadata": {
        "id": "AcjqRJs4iK_l"
      },
      "outputs": [],
      "source": [
        "for i in range(5):\n",
        "  # shap.image_plot([shap_value[0,:,:,i:i+1],shap_value[1,:,:,i:i+1]],test_data[0,:,:,i:i+1])\n",
        "  shap.image_plot(shap_value[1,:,:,i:i+1],test_data[0,i,:,:,0])\n",
        "  # shap.image_plot(shap_value[0,:,:,i:i+1],test_data[0,:,:,i:i+1])"
      ]
    },
    {
      "cell_type": "code",
      "execution_count": null,
      "metadata": {
        "id": "TfXVbe3dJNuf"
      },
      "outputs": [],
      "source": [
        "shap_value.shape"
      ]
    },
    {
      "cell_type": "code",
      "execution_count": null,
      "metadata": {
        "id": "wVq48USCKb2e"
      },
      "outputs": [],
      "source": [
        "explainer"
      ]
    },
    {
      "cell_type": "code",
      "execution_count": null,
      "metadata": {
        "id": "5bDlWtRYF78h"
      },
      "outputs": [],
      "source": [
        "shap.initjs()\n",
        "shap.force_plot(explainer.expected_value[0],shap_value[0,:,:,0])"
      ]
    }
  ],
  "metadata": {
    "accelerator": "GPU",
    "colab": {
      "provenance": [],
      "include_colab_link": true
    },
    "kernelspec": {
      "display_name": "Python 3",
      "name": "python3"
    },
    "language_info": {
      "name": "python"
    }
  },
  "nbformat": 4,
  "nbformat_minor": 0
}