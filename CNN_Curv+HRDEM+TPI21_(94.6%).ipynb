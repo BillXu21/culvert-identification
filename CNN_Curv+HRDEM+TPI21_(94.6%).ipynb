{
  "cells": [
    {
      "cell_type": "markdown",
      "metadata": {
        "id": "view-in-github",
        "colab_type": "text"
      },
      "source": [
        "<a href=\"https://colab.research.google.com/github/BillXu21/culvert-identification/blob/main/CNN_Curv%2BHRDEM%2BTPI21_(94.6%25).ipynb\" target=\"_parent\"><img src=\"https://colab.research.google.com/assets/colab-badge.svg\" alt=\"Open In Colab\"/></a>"
      ]
    },
    {
      "cell_type": "code",
      "execution_count": null,
      "metadata": {
        "id": "Xb9mOho-4Jzu"
      },
      "outputs": [],
      "source": [
        "# !pip install rasterio"
      ]
    },
    {
      "cell_type": "code",
      "execution_count": null,
      "metadata": {
        "id": "Aj8YPGiqUE2W"
      },
      "outputs": [],
      "source": []
    },
    {
      "cell_type": "code",
      "execution_count": null,
      "metadata": {
        "colab": {
          "base_uri": "https://localhost:8080/"
        },
        "id": "e4-tHPbV7Yz7",
        "outputId": "7669de8b-63dc-4a9c-ba5c-4142bf25c689"
      },
      "outputs": [
        {
          "output_type": "stream",
          "name": "stdout",
          "text": [
            "3.10.12 (main, Nov 20 2023, 15:14:05) [GCC 11.4.0]\n"
          ]
        }
      ],
      "source": [
        "import sys\n",
        "print(sys.version)"
      ]
    },
    {
      "cell_type": "code",
      "execution_count": null,
      "metadata": {
        "colab": {
          "base_uri": "https://localhost:8080/"
        },
        "id": "z1aSvmuWO8gT",
        "outputId": "8281af41-8c18-479d-8d2c-e1cc5031290b"
      },
      "outputs": [
        {
          "output_type": "stream",
          "name": "stdout",
          "text": [
            "2.15.0\n"
          ]
        }
      ],
      "source": [
        "import tensorflow as tf\n",
        "print(tf.__version__)"
      ]
    },
    {
      "cell_type": "code",
      "execution_count": null,
      "metadata": {
        "id": "IitySReDO9VA"
      },
      "outputs": [],
      "source": [
        "import os\n",
        "os.environ[\"CUDA_VISIBLE_DEVICES\"] = \"0\"\n",
        "\n",
        "from skimage import io\n",
        "import glob\n",
        "\n",
        "from sklearn.model_selection import train_test_split\n",
        "# import tensorflow as tf\n",
        "\n",
        "import tensorflow as tf\n",
        "\n",
        "import numpy as np\n",
        "import pandas as pd\n",
        "\n",
        "\n",
        "#from tensorflow.keras.callbacks import TensorBoard\n",
        "from tensorflow.compat.v1.keras.models import Sequential\n",
        "from tensorflow.compat.v1.keras.layers import *\n",
        "from tensorflow.compat.v1.keras.layers import BatchNormalization\n",
        "from tensorflow.compat.v1.keras.layers import Dense, Dropout, Flatten, Activation\n",
        "from tensorflow.compat.v1.keras.layers import Convolution2D, MaxPooling2D, AveragePooling2D\n",
        "from tensorflow.compat.v1.keras.optimizers import Adadelta, Adam\n",
        "from tensorflow.compat.v1.keras.callbacks import ModelCheckpoint\n",
        "from tensorflow import keras\n",
        "\n",
        "from sklearn.preprocessing import MinMaxScaler\n",
        "\n",
        "#from tensorflow.keras import callbacks\n",
        "import matplotlib.pyplot as plt\n",
        "\n",
        "tf.compat.v1.disable_eager_execution()"
      ]
    },
    {
      "cell_type": "code",
      "execution_count": null,
      "metadata": {
        "colab": {
          "base_uri": "https://localhost:8080/"
        },
        "id": "8lB4bvyaYbl3",
        "outputId": "4cd48969-d4d5-49f7-a70c-52cd86bd3571"
      },
      "outputs": [
        {
          "output_type": "stream",
          "name": "stdout",
          "text": [
            "Drive already mounted at /content/drive; to attempt to forcibly remount, call drive.mount(\"/content/drive\", force_remount=True).\n"
          ]
        }
      ],
      "source": [
        "from google.colab import drive\n",
        "drive.mount('/content/drive')"
      ]
    },
    {
      "cell_type": "code",
      "execution_count": null,
      "metadata": {
        "id": "jlHDhDKcPCnP"
      },
      "outputs": [],
      "source": [
        "path='/content/drive/MyDrive/WFBBDEM/WFBBDEM+/'   #DEM\n",
        "\n",
        "# using one watershed to train model, 3 of them to test\n",
        "pathTrain='WFBBDEM_Train/'\n",
        "pathTest1='WFBBDEM_Test/'\n",
        "ca = 'CADEM/'\n",
        "il = 'ILDEM/'\n",
        "nd = 'NDDEM/'\n",
        "newfbb = 'NEWFBB_DEM/'"
      ]
    },
    {
      "cell_type": "code",
      "execution_count": null,
      "metadata": {
        "id": "z_9MeDbA94s6"
      },
      "outputs": [],
      "source": []
    },
    {
      "cell_type": "code",
      "execution_count": null,
      "metadata": {
        "id": "Q1dZM1okU_Ay"
      },
      "outputs": [],
      "source": [
        "# import rasterio as rio\n",
        "# def read_img(path):\n",
        "#     cate=[path+x for x in os.listdir(path) if os.path.isdir(path+x)] # get F,T folder\n",
        "#     imgs=[]\n",
        "#     labels=[]\n",
        "#     imgs_name=[]\n",
        "#     for idx,folder in enumerate(cate): # idx-> 0:F; 1:T; folder-> F,T\n",
        "#         print(idx,folder)\n",
        "#         for im in glob.glob(folder+\"/*.tif\"):\n",
        "#             im = im.replace('\\\\','/')\n",
        "# #            print('reading the images:%s'%(im))\n",
        "\n",
        "#             img_name=os.path.basename(im)\n",
        "#             img_name=os.path.splitext(img_name)[0] # get file name\n",
        "\n",
        "#             #img=io.imread(im)\n",
        "#             with rio.open(im) as i:\n",
        "#               img = i.read()\n",
        "#             # Normalize the dataset-MaxMin\n",
        "#             img = np.squeeze(img)\n",
        "#             scaler = MinMaxScaler(feature_range=(0, 1))\n",
        "#             img = scaler.fit_transform(img)\n",
        "\n",
        "#             imgs.append(img)\n",
        "#             labels.append(idx)\n",
        "#             imgs_name.append(img_name) # image name\n",
        "\n",
        "#     return np.asarray(imgs,np.float32),np.asarray(labels,np.int32), np.asarray(imgs_name)\n",
        "\n",
        "# data1,label1,name1=read_img('/content/drive/MyDrive/WFBBDEM/WFBBDEM+/NEWFBB_DEM/TPI_21_DATA/')"
      ]
    },
    {
      "cell_type": "code",
      "execution_count": null,
      "metadata": {
        "id": "p4NVfVChYbUw"
      },
      "outputs": [],
      "source": []
    },
    {
      "cell_type": "code",
      "execution_count": null,
      "metadata": {
        "id": "GHa-R4jfxEfh"
      },
      "outputs": [],
      "source": [
        "# import pickle\n",
        "# with open('/content/drive/MyDrive/WFBBDEM/WFBBDEM+/NEWFBB_DEM/TPI_21_DATA/data','wb') as fin: pickle.dump(data1,fin)\n",
        "# with open('/content/drive/MyDrive/WFBBDEM/WFBBDEM+/NEWFBB_DEM/TPI_21_DATA/label','wb') as fin: pickle.dump(label1,fin)\n",
        "# with open('/content/drive/MyDrive/WFBBDEM/WFBBDEM+/NEWFBB_DEM/TPI_21_DATA/name','wb') as fin: pickle.dump(name1,fin)"
      ]
    },
    {
      "cell_type": "code",
      "execution_count": null,
      "metadata": {
        "id": "R2l3OoRIwGJw"
      },
      "outputs": [],
      "source": [
        "import pickle\n",
        "with open('/content/drive/MyDrive/WFBBDEM/WFBBDEM+/NEWFBB_DEM/TPI_21_DATA/data','rb') as fin: data1 = pickle.load(fin)\n",
        "with open('/content/drive/MyDrive/WFBBDEM/WFBBDEM+/NEWFBB_DEM/TPI_21_DATA/label','rb') as fin: label1 = pickle.load(fin)\n",
        "with open('/content/drive/MyDrive/WFBBDEM/WFBBDEM+/NEWFBB_DEM/TPI_21_DATA/name','rb') as fin: name1 = pickle.load(fin)\n",
        "\n",
        "with open('/content/drive/MyDrive/WFBBDEM/WFBBDEM+/NEWFBB_DEM/Cuvature/data','rb') as fin: data3 = pickle.load(fin)\n",
        "with open('/content/drive/MyDrive/WFBBDEM/WFBBDEM+/NEWFBB_DEM/Cuvature/label',  'rb') as fin: label3 = pickle.load(fin)\n",
        "with open('/content/drive/MyDrive/WFBBDEM/WFBBDEM+/NEWFBB_DEM/Cuvature/name','rb') as fin: name3 = pickle.load(fin)\n",
        "\n",
        "with open('/content/drive/MyDrive/WFBBDEM/WFBBDEM+/NEWFBB_DEM/NEWFBB_DEM/data','rb') as fin: data5 = pickle.load(fin)\n",
        "with open('/content/drive/MyDrive/WFBBDEM/WFBBDEM+/NEWFBB_DEM/NEWFBB_DEM/label','rb') as fin: label5 = pickle.load(fin)\n",
        "with open('/content/drive/MyDrive/WFBBDEM/WFBBDEM+/NEWFBB_DEM/NEWFBB_DEM/name','rb') as fin: name5 = pickle.load(fin)"
      ]
    },
    {
      "cell_type": "code",
      "execution_count": null,
      "metadata": {
        "id": "JlXZGMBZ5q5C"
      },
      "outputs": [],
      "source": []
    },
    {
      "cell_type": "code",
      "execution_count": null,
      "metadata": {
        "id": "ZfMMT_xBus7x"
      },
      "outputs": [],
      "source": [
        "datas = [[data1,label1,name1],[data3,label3,name3],[data5,label5,name5]]"
      ]
    },
    {
      "cell_type": "code",
      "execution_count": null,
      "metadata": {
        "id": "WYP4P6g30exU"
      },
      "outputs": [],
      "source": []
    },
    {
      "cell_type": "code",
      "execution_count": null,
      "metadata": {
        "id": "5Ggf632H0Ym7"
      },
      "outputs": [],
      "source": [
        "#data=np.expand_dims(data,3) # add channel dimension, 4D\n",
        "temp = []\n",
        "for data,label,name in datas:\n",
        "  #data = np.repeat(data[..., np.newaxis], 3, -1)\n",
        "\n",
        "  labelN=label.shape[0]\n",
        "\n",
        "\n",
        "  label_name=np.empty((labelN,2),dtype=int) # label + name\n",
        "  for i in range(labelN):\n",
        "      label_name[i,0]=label[i] # label\n",
        "      if (name[i].isdigit()):\n",
        "          name[i]=name[i]\n",
        "      else:\n",
        "          name[i]=name[i][1:] # only keep number, delete first letter\n",
        "      name[i] = name[i].split()[0]\n",
        "      label_name[i,1]=name[i]\n",
        "  temp.append([data,label,name,label_name])\n",
        "datas = temp"
      ]
    },
    {
      "cell_type": "code",
      "execution_count": null,
      "metadata": {
        "id": "IceuyUd6PwRX"
      },
      "outputs": [],
      "source": [
        "data = []\n",
        "for i in datas:\n",
        "  temp = list(sorted(zip(*map(list,i)),key=lambda x:x[2]))\n",
        "  data.append(temp)\n",
        "datas = data"
      ]
    },
    {
      "cell_type": "code",
      "source": [],
      "metadata": {
        "id": "ZJHAgVYFen3a"
      },
      "execution_count": null,
      "outputs": []
    },
    {
      "cell_type": "code",
      "execution_count": null,
      "metadata": {
        "id": "Tp57KNqaBd0Z"
      },
      "outputs": [],
      "source": [
        "tt = list(zip(*datas))\n",
        "data = np.asarray([[i[0] for i in q] for q in tt])\n",
        "\n",
        "label_name = [q[0][3] for q in tt]"
      ]
    },
    {
      "cell_type": "code",
      "execution_count": null,
      "metadata": {
        "id": "X0g8flSE5HaW",
        "colab": {
          "base_uri": "https://localhost:8080/"
        },
        "outputId": "4a641da5-1548-4d8d-bd53-49f0ea8e5cd8"
      },
      "outputs": [
        {
          "output_type": "execute_result",
          "data": {
            "text/plain": [
              "(4044, 3, 100, 100)"
            ]
          },
          "metadata": {},
          "execution_count": 166
        }
      ],
      "source": [
        "data.shape"
      ]
    },
    {
      "cell_type": "code",
      "execution_count": null,
      "metadata": {
        "id": "FChpf7J0vtCP"
      },
      "outputs": [],
      "source": []
    },
    {
      "cell_type": "code",
      "execution_count": null,
      "metadata": {
        "id": "rkQC241_Q-1B"
      },
      "outputs": [],
      "source": [
        "train_data,test_data,train_label,test_label = train_test_split(data,label_name,test_size=0.2,stratify=label)"
      ]
    },
    {
      "cell_type": "code",
      "execution_count": null,
      "metadata": {
        "id": "FuTEcvzz_Fwq",
        "colab": {
          "base_uri": "https://localhost:8080/"
        },
        "outputId": "1279628e-4f17-4aeb-9e38-060a6481b369"
      },
      "outputs": [
        {
          "output_type": "execute_result",
          "data": {
            "text/plain": [
              "(3235, 3, 100, 100)"
            ]
          },
          "metadata": {},
          "execution_count": 168
        }
      ],
      "source": [
        "train_data.shape"
      ]
    },
    {
      "cell_type": "code",
      "execution_count": null,
      "metadata": {
        "id": "7fByzn_P-9Nb"
      },
      "outputs": [],
      "source": [
        "# creat CNN model\n",
        "def createCNN():\n",
        "    inputs = [keras.layers.Input(shape = (100,100,1)) for i in range(3)]\n",
        "    merged = keras.layers.Concatenate()(inputs)\n",
        "    a = Convolution2D(128,3,3,padding='same')(merged)\n",
        "    b = BatchNormalization()(a)\n",
        "    c = Activation('relu')(b)\n",
        "    d = Dropout(0.3)(c)\n",
        "\n",
        "    e = Convolution2D(256,3,3,padding='same')(d)\n",
        "    f = BatchNormalization()(e)\n",
        "    g = Activation('relu')(f)\n",
        "    h = Dropout(0.3)(g)\n",
        "\n",
        "    i = Convolution2D(512,3,3,padding='same')(h)\n",
        "    j = BatchNormalization()(i)\n",
        "    k = Activation('relu')(j)\n",
        "    l = Dropout(0.3)(k)\n",
        "\n",
        "    flat = Flatten()(l)\n",
        "\n",
        "    m = Dense(512,activation = 'relu')(flat)\n",
        "    n = Dropout(0.5)(m)\n",
        "    o = Dense(128,activation = 'relu')(n)\n",
        "    p = Dropout(0.5)(o)\n",
        "    q = Dense(32,activation = 'relu')(p)\n",
        "    r = Dropout(0.5)(q)\n",
        "    s = Dense(2,activation = 'softmax')(r)\n",
        "\n",
        "    model = keras.models.Model(inputs = inputs, outputs = s)\n",
        "\n",
        "    # model.summary()\n",
        "\n",
        "    return model"
      ]
    },
    {
      "cell_type": "code",
      "source": [
        "train_data.shape"
      ],
      "metadata": {
        "colab": {
          "base_uri": "https://localhost:8080/"
        },
        "id": "ookRZxHAtQii",
        "outputId": "8c7a2111-3082-4361-8998-99922d49e085"
      },
      "execution_count": null,
      "outputs": [
        {
          "output_type": "execute_result",
          "data": {
            "text/plain": [
              "(3235, 3, 100, 100)"
            ]
          },
          "metadata": {},
          "execution_count": 170
        }
      ]
    },
    {
      "cell_type": "code",
      "source": [
        "train_data = np.expand_dims(train_data,axis=4)"
      ],
      "metadata": {
        "id": "9zoBlQpPIvFd"
      },
      "execution_count": null,
      "outputs": []
    },
    {
      "cell_type": "code",
      "source": [
        "train_label[0]"
      ],
      "metadata": {
        "colab": {
          "base_uri": "https://localhost:8080/"
        },
        "id": "9560E73YJeN9",
        "outputId": "c443e471-c85c-4dc0-dc14-aa5484e43f63"
      },
      "execution_count": null,
      "outputs": [
        {
          "output_type": "execute_result",
          "data": {
            "text/plain": [
              "array([   0, 1784])"
            ]
          },
          "metadata": {},
          "execution_count": 172
        }
      ]
    },
    {
      "cell_type": "code",
      "source": [],
      "metadata": {
        "id": "lDzT7Q_tyfDR"
      },
      "execution_count": null,
      "outputs": []
    },
    {
      "cell_type": "code",
      "execution_count": null,
      "metadata": {
        "colab": {
          "base_uri": "https://localhost:8080/"
        },
        "id": "8IvCqRb7Hi_W",
        "outputId": "063ec29d-66e6-4dc3-a183-808b41fda884"
      },
      "outputs": [
        {
          "output_type": "stream",
          "name": "stderr",
          "text": [
            "/usr/local/lib/python3.10/dist-packages/keras/src/optimizers/legacy/adam.py:118: UserWarning: The `lr` argument is deprecated, use `learning_rate` instead.\n",
            "  super().__init__(name, **kwargs)\n"
          ]
        }
      ],
      "source": [
        "LEARNING_RATE = 1e-21\n",
        "BATCH_SIZE = 64\n",
        "EPOCHS = 20\n",
        "\n",
        "\n",
        "model = createCNN()\n",
        "\n",
        "model.load_weights('/content/drive/MyDrive/WFBBDEM/WFBBDEM+/NEWFBB_DEM/Model3CNN20.h5')\n",
        "\n",
        "model.compile(loss='sparse_categorical_crossentropy',\n",
        "              optimizer=Adam(lr=LEARNING_RATE),\n",
        "              metrics=['accuracy'])"
      ]
    },
    {
      "cell_type": "code",
      "execution_count": null,
      "metadata": {
        "id": "LEvOhh6Q2X17"
      },
      "outputs": [],
      "source": []
    },
    {
      "cell_type": "code",
      "execution_count": null,
      "metadata": {
        "id": "aTgSdRtFtNKL"
      },
      "outputs": [],
      "source": []
    },
    {
      "cell_type": "code",
      "execution_count": null,
      "metadata": {
        "colab": {
          "base_uri": "https://localhost:8080/"
        },
        "id": "xD0NF7XK5nFf",
        "outputId": "9024a085-c6f2-4fcb-d48b-c66425b3f302"
      },
      "outputs": [
        {
          "output_type": "execute_result",
          "data": {
            "text/plain": [
              "292"
            ]
          },
          "metadata": {},
          "execution_count": 174
        }
      ],
      "source": [
        "import gc\n",
        "gc.collect()"
      ]
    },
    {
      "cell_type": "code",
      "execution_count": null,
      "metadata": {
        "id": "AQuZ1grkGmmq"
      },
      "outputs": [],
      "source": []
    },
    {
      "cell_type": "code",
      "execution_count": null,
      "metadata": {
        "id": "yixusNLjISRs"
      },
      "outputs": [],
      "source": [
        "from itertools import chain"
      ]
    },
    {
      "cell_type": "code",
      "execution_count": null,
      "metadata": {
        "id": "F-0mGbovjyqE",
        "colab": {
          "base_uri": "https://localhost:8080/"
        },
        "outputId": "4707b539-ad4b-4eb3-dcbc-aa00da314d05"
      },
      "outputs": [
        {
          "output_type": "execute_result",
          "data": {
            "text/plain": [
              "(3235,)"
            ]
          },
          "metadata": {},
          "execution_count": 176
        }
      ],
      "source": [
        "np.asarray(train_label)[:,0].shape"
      ]
    },
    {
      "cell_type": "code",
      "execution_count": null,
      "metadata": {
        "colab": {
          "base_uri": "https://localhost:8080/"
        },
        "id": "fNTZfDiiHmij",
        "outputId": "acdeff31-e664-4d7d-c6b5-2e7e350892b5"
      },
      "outputs": [
        {
          "output_type": "stream",
          "name": "stdout",
          "text": [
            "Train on 2588 samples, validate on 647 samples\n",
            "Epoch 1/20\n",
            "2560/2588 [============================>.] - ETA: 0s - loss: 0.2632 - accuracy: 0.9074"
          ]
        },
        {
          "output_type": "stream",
          "name": "stderr",
          "text": [
            "/usr/local/lib/python3.10/dist-packages/keras/src/engine/training_v1.py:2335: UserWarning: `Model.state_updates` will be removed in a future version. This property should not be used in TensorFlow 2.0, as `updates` are applied automatically.\n",
            "  updates = self.state_updates\n"
          ]
        },
        {
          "output_type": "stream",
          "name": "stdout",
          "text": [
            "\n",
            "Epoch 1: val_accuracy improved from -inf to 0.93818, saving model to /content/drive/MyDrive/WFBBDEM/WFBBDEM+/NEWFBB_DEM/Model3CNN21.h5\n",
            "2588/2588 [==============================] - 6s 2ms/sample - loss: 0.2656 - accuracy: 0.9065 - val_loss: 0.1510 - val_accuracy: 0.9382\n",
            "Epoch 2/20\n",
            "2588/2588 [==============================] - ETA: 0s - loss: 0.2580 - accuracy: 0.9007\n",
            "Epoch 2: val_accuracy did not improve from 0.93818\n",
            "2588/2588 [==============================] - 2s 777us/sample - loss: 0.2580 - accuracy: 0.9007 - val_loss: 0.1508 - val_accuracy: 0.9382\n",
            "Epoch 3/20\n",
            "2588/2588 [==============================] - ETA: 0s - loss: 0.2603 - accuracy: 0.9080\n",
            "Epoch 3: val_accuracy did not improve from 0.93818\n",
            "2588/2588 [==============================] - 2s 726us/sample - loss: 0.2603 - accuracy: 0.9080 - val_loss: 0.1506 - val_accuracy: 0.9382\n",
            "Epoch 4/20\n",
            "2588/2588 [==============================] - ETA: 0s - loss: 0.2634 - accuracy: 0.9038\n",
            "Epoch 4: val_accuracy improved from 0.93818 to 0.93972, saving model to /content/drive/MyDrive/WFBBDEM/WFBBDEM+/NEWFBB_DEM/Model3CNN21.h5\n",
            "2588/2588 [==============================] - 2s 761us/sample - loss: 0.2634 - accuracy: 0.9038 - val_loss: 0.1504 - val_accuracy: 0.9397\n",
            "Epoch 5/20\n",
            "2560/2588 [============================>.] - ETA: 0s - loss: 0.2605 - accuracy: 0.9016\n",
            "Epoch 5: val_accuracy did not improve from 0.93972\n",
            "2588/2588 [==============================] - 2s 741us/sample - loss: 0.2601 - accuracy: 0.9022 - val_loss: 0.1503 - val_accuracy: 0.9397\n",
            "Epoch 6/20\n",
            "2560/2588 [============================>.] - ETA: 0s - loss: 0.2833 - accuracy: 0.8895\n",
            "Epoch 6: val_accuracy did not improve from 0.93972\n",
            "2588/2588 [==============================] - 2s 732us/sample - loss: 0.2829 - accuracy: 0.8899 - val_loss: 0.1504 - val_accuracy: 0.9397\n",
            "Epoch 7/20\n",
            "2560/2588 [============================>.] - ETA: 0s - loss: 0.2742 - accuracy: 0.9016\n",
            "Epoch 7: val_accuracy did not improve from 0.93972\n",
            "2588/2588 [==============================] - 2s 788us/sample - loss: 0.2791 - accuracy: 0.9003 - val_loss: 0.1503 - val_accuracy: 0.9397\n",
            "Epoch 8/20\n",
            "2588/2588 [==============================] - ETA: 0s - loss: 0.2688 - accuracy: 0.8995\n",
            "Epoch 8: val_accuracy did not improve from 0.93972\n",
            "2588/2588 [==============================] - 2s 862us/sample - loss: 0.2688 - accuracy: 0.8995 - val_loss: 0.1504 - val_accuracy: 0.9382\n",
            "Epoch 9/20\n",
            "2588/2588 [==============================] - ETA: 0s - loss: 0.2589 - accuracy: 0.8980\n",
            "Epoch 9: val_accuracy did not improve from 0.93972\n",
            "2588/2588 [==============================] - 2s 791us/sample - loss: 0.2589 - accuracy: 0.8980 - val_loss: 0.1505 - val_accuracy: 0.9382\n",
            "Epoch 10/20\n",
            "2588/2588 [==============================] - ETA: 0s - loss: 0.2663 - accuracy: 0.9015\n",
            "Epoch 10: val_accuracy did not improve from 0.93972\n",
            "2588/2588 [==============================] - 2s 731us/sample - loss: 0.2663 - accuracy: 0.9015 - val_loss: 0.1504 - val_accuracy: 0.9397\n",
            "Epoch 11/20\n",
            "2560/2588 [============================>.] - ETA: 0s - loss: 0.2614 - accuracy: 0.9000\n",
            "Epoch 11: val_accuracy did not improve from 0.93972\n",
            "2588/2588 [==============================] - 2s 738us/sample - loss: 0.2638 - accuracy: 0.8999 - val_loss: 0.1504 - val_accuracy: 0.9397\n",
            "Epoch 12/20\n",
            "2588/2588 [==============================] - ETA: 0s - loss: 0.2539 - accuracy: 0.9030\n",
            "Epoch 12: val_accuracy did not improve from 0.93972\n",
            "2588/2588 [==============================] - 2s 736us/sample - loss: 0.2539 - accuracy: 0.9030 - val_loss: 0.1503 - val_accuracy: 0.9397\n",
            "Epoch 13/20\n",
            "2560/2588 [============================>.] - ETA: 0s - loss: 0.2651 - accuracy: 0.9027\n",
            "Epoch 13: val_accuracy did not improve from 0.93972\n",
            "2588/2588 [==============================] - 2s 734us/sample - loss: 0.2649 - accuracy: 0.9022 - val_loss: 0.1504 - val_accuracy: 0.9397\n",
            "Epoch 14/20\n",
            "2560/2588 [============================>.] - ETA: 0s - loss: 0.2712 - accuracy: 0.8992\n",
            "Epoch 14: val_accuracy did not improve from 0.93972\n",
            "2588/2588 [==============================] - 2s 752us/sample - loss: 0.2708 - accuracy: 0.8991 - val_loss: 0.1504 - val_accuracy: 0.9397\n",
            "Epoch 15/20\n",
            "2588/2588 [==============================] - ETA: 0s - loss: 0.2887 - accuracy: 0.8968\n",
            "Epoch 15: val_accuracy did not improve from 0.93972\n",
            "2588/2588 [==============================] - 2s 832us/sample - loss: 0.2887 - accuracy: 0.8968 - val_loss: 0.1503 - val_accuracy: 0.9397\n",
            "Epoch 16/20\n",
            "2560/2588 [============================>.] - ETA: 0s - loss: 0.2632 - accuracy: 0.8961\n",
            "Epoch 16: val_accuracy did not improve from 0.93972\n",
            "2588/2588 [==============================] - 2s 848us/sample - loss: 0.2638 - accuracy: 0.8953 - val_loss: 0.1502 - val_accuracy: 0.9397\n",
            "Epoch 17/20\n",
            "2588/2588 [==============================] - ETA: 0s - loss: 0.2655 - accuracy: 0.8968\n",
            "Epoch 17: val_accuracy did not improve from 0.93972\n",
            "2588/2588 [==============================] - 2s 740us/sample - loss: 0.2655 - accuracy: 0.8968 - val_loss: 0.1502 - val_accuracy: 0.9397\n",
            "Epoch 18/20\n",
            "2560/2588 [============================>.] - ETA: 0s - loss: 0.2741 - accuracy: 0.8871\n",
            "Epoch 18: val_accuracy did not improve from 0.93972\n",
            "2588/2588 [==============================] - 2s 743us/sample - loss: 0.2783 - accuracy: 0.8872 - val_loss: 0.1502 - val_accuracy: 0.9397\n",
            "Epoch 19/20\n",
            "2560/2588 [============================>.] - ETA: 0s - loss: 0.2855 - accuracy: 0.9000\n",
            "Epoch 19: val_accuracy did not improve from 0.93972\n",
            "2588/2588 [==============================] - 2s 742us/sample - loss: 0.2853 - accuracy: 0.8999 - val_loss: 0.1503 - val_accuracy: 0.9397\n",
            "Epoch 20/20\n",
            "2588/2588 [==============================] - ETA: 0s - loss: 0.2705 - accuracy: 0.9030\n",
            "Epoch 20: val_accuracy did not improve from 0.93972\n",
            "2588/2588 [==============================] - 2s 729us/sample - loss: 0.2705 - accuracy: 0.9030 - val_loss: 0.1503 - val_accuracy: 0.9397\n"
          ]
        }
      ],
      "source": [
        "OUT_DIR = \"/content/drive/MyDrive/WFBBDEM/WFBBDEM+/NEWFBB_DEM\"\n",
        "checkpoint = ModelCheckpoint(os.path.join(OUT_DIR, 'Model3CNN21.h5'),  # model filename\n",
        "                              monitor='val_accuracy', # quantity to monitor\n",
        "                              verbose=1, # verbosity - 0 or 1\n",
        "                              save_best_only= True, # The latest best model will not be overwritten\n",
        "                              save_weights_only=True, # save model, not only weights\n",
        "                              mode='auto') # The decision to overwrite model is made\n",
        "                                            # automatically depending on the quantity to monitor\n",
        "\n",
        "model_details = model.fit([train_data[:,i] for i in range(3)], np.asarray(train_label)[:,0],\n",
        "                          batch_size = BATCH_SIZE,\n",
        "                          epochs = EPOCHS,\n",
        "                          validation_split=0.2,\n",
        "                          callbacks=[checkpoint],\n",
        "                          verbose=1)\n"
      ]
    },
    {
      "cell_type": "code",
      "execution_count": null,
      "metadata": {
        "id": "OtkAhGVC_YgB"
      },
      "outputs": [],
      "source": [
        "def plot_confusion_matrix(confusion_mat):\n",
        "    plt.imshow(confusion_mat,interpolation='nearest',cmap=plt.cm.Wistia)\n",
        "    plt.title('CNN Confusion Matrix',fontsize=20)\n",
        "    plt.colorbar()\n",
        "    tick_marks=np.arange(2) # class number\n",
        "    plt.xticks(tick_marks,tick_marks,fontsize=16)\n",
        "    plt.yticks(tick_marks,tick_marks,fontsize=16)\n",
        "    plt.ylabel('True Label',fontsize=16)\n",
        "    plt.xlabel('Predicted Label',fontsize=16)\n",
        "    for i in range(len(confusion_mat)):    #row\n",
        "        for j in range(len(confusion_mat[i])):    #col\n",
        "            plt.text(j, i, confusion_mat[i][j],fontsize=16) # images number of each part\n",
        "    plt.show()\n",
        "\n",
        "def plot_learning_curves(history):\n",
        "    df=pd.DataFrame(history.history,index=np.arange(0, EPOCHS).astype(dtype=np.str))\n",
        "    df.plot(use_index=True,figsize=(8, 5))\n",
        "    plt.grid(True)\n",
        "\n",
        "    #plt.gca().set_ylim(0, 1)\n",
        "    plt.show()"
      ]
    },
    {
      "cell_type": "code",
      "execution_count": null,
      "metadata": {
        "id": "PmdRH50NV6VK"
      },
      "outputs": [],
      "source": []
    },
    {
      "cell_type": "code",
      "execution_count": null,
      "metadata": {
        "id": "1LtDK9RVLqPn"
      },
      "outputs": [],
      "source": [
        "test_label = np.asarray(test_label)"
      ]
    },
    {
      "cell_type": "code",
      "execution_count": null,
      "metadata": {
        "id": "u_UjkFZGkAoU"
      },
      "outputs": [],
      "source": []
    },
    {
      "cell_type": "code",
      "execution_count": null,
      "metadata": {
        "id": "srBUkBRokW5r"
      },
      "outputs": [],
      "source": []
    },
    {
      "cell_type": "code",
      "execution_count": null,
      "metadata": {
        "id": "w37I_pd0lkPM"
      },
      "outputs": [],
      "source": []
    },
    {
      "cell_type": "code",
      "execution_count": null,
      "metadata": {
        "id": "y8l4ZK0imMYQ"
      },
      "outputs": [],
      "source": [
        "test_data = np.expand_dims(test_data,4)"
      ]
    },
    {
      "cell_type": "code",
      "execution_count": null,
      "metadata": {
        "colab": {
          "base_uri": "https://localhost:8080/",
          "height": 564
        },
        "id": "w0B_go4RZTCe",
        "outputId": "4e6c884a-eba0-4be3-b602-ea592f7e10f9"
      },
      "outputs": [
        {
          "output_type": "stream",
          "name": "stderr",
          "text": [
            "/usr/local/lib/python3.10/dist-packages/keras/src/engine/training_v1.py:2359: UserWarning: `Model.state_updates` will be removed in a future version. This property should not be used in TensorFlow 2.0, as `updates` are applied automatically.\n",
            "  updates=self.state_updates,\n"
          ]
        },
        {
          "output_type": "display_data",
          "data": {
            "text/plain": [
              "<Figure size 640x480 with 2 Axes>"
            ],
            "image/png": "[encoded data removed]"
          },
          "metadata": {}
        },
        {
          "output_type": "stream",
          "name": "stdout",
          "text": [
            "Accuracy: 0.9456 Loss: 0.1438 Precision: 0.9460555922420328 Recall: 0.9461046902708983 F1: 0.9460801406194644 Batch Size: 64 Learning Rate: 1e-21 Epochs: 20\n"
          ]
        }
      ],
      "source": [
        "# Predict\n",
        "scroe, accuracy = model.evaluate([test_data[:,i] for i in range(3)], test_label[:,0], batch_size=BATCH_SIZE)\n",
        "pred_label = model.predict([test_data[:,i] for i in range(3)])\n",
        "#pred_label = [sum([i[0] for i in q]) for q in test_data]\n",
        "pred_label = np.argmax(pred_label, axis=1)\n",
        "\n",
        "\n",
        "for t in range(pred_label.shape[0]):\n",
        "    NameWrong=[]\n",
        "    labelPred=[]\n",
        "    if (pred_label[t]!=test_label[t,0]):\n",
        "        # print (test_label[t,0], test_label[t,1], pred_label[t])\n",
        "        NameWrong.append(test_label[t,1])\n",
        "        labelPred.append(pred_label[t])\n",
        "confusion_matrix = tf.math.confusion_matrix(labels=test_label[:,0],predictions=pred_label, num_classes=2, dtype=tf.int32, name=None, weights=None)\n",
        "sess=tf.compat.v1.Session()\n",
        "\n",
        "#with tf.compat.v1.Session(graph=g) as sess:\n",
        "confusion_matrix = sess.run(confusion_matrix)\n",
        "plot_confusion_matrix(confusion_matrix)\n",
        "\n",
        "#plot_learning_curves(model_details)\n",
        "precision = (confusion_matrix[0][0]/(confusion_matrix[0][0]+confusion_matrix[1][0])+confusion_matrix[1][1]/(confusion_matrix[1][1]+confusion_matrix[0][1]))/2\n",
        "recall = (confusion_matrix[0][0]/(confusion_matrix[0][0]+confusion_matrix[0][1])+confusion_matrix[1][1]/(confusion_matrix[1][1]+confusion_matrix[1][0]))/2\n",
        "F = 2*(precision*recall)/(precision+recall)\n",
        "print ('Accuracy:', '{:.4f}'.format(accuracy), 'Loss:','{:.4f}'.format(scroe), f'Precision: {precision}', f'Recall: {recall}', f'F1: {F}', 'Batch Size:', BATCH_SIZE,'Learning Rate:', LEARNING_RATE, 'Epochs:', EPOCHS)\n"
      ]
    },
    {
      "cell_type": "code",
      "source": [
        "lol"
      ],
      "metadata": {
        "id": "iNrhMNmbxEmm",
        "colab": {
          "base_uri": "https://localhost:8080/",
          "height": 175
        },
        "outputId": "3ce2f68f-a616-4b94-c2a7-8316e8f75987"
      },
      "execution_count": null,
      "outputs": [
        {
          "output_type": "error",
          "ename": "NameError",
          "evalue": "name 'lol' is not defined",
          "traceback": [
            "\u001b[0;31m---------------------------------------------------------------------------\u001b[0m",
            "\u001b[0;31mNameError\u001b[0m                                 Traceback (most recent call last)",
            "\u001b[0;32m<ipython-input-182-6d9627000451>\u001b[0m in \u001b[0;36m<cell line: 1>\u001b[0;34m()\u001b[0m\n\u001b[0;32m----> 1\u001b[0;31m \u001b[0mlol\u001b[0m\u001b[0;34m\u001b[0m\u001b[0;34m\u001b[0m\u001b[0m\n\u001b[0m",
            "\u001b[0;31mNameError\u001b[0m: name 'lol' is not defined"
          ]
        }
      ]
    },
    {
      "cell_type": "code",
      "source": [
        "for i in range(3):\n",
        "  s = 0\n",
        "  test = test_data.copy()\n",
        "  for q in range(100):\n",
        "    np.random.shuffle(test[:,i])\n",
        "    scroe, accuracy = model.evaluate([test[:,i] for i in range(3)], test_label[:,0], batch_size=512)\n",
        "    s += .9419-accuracy\n",
        "  print(s/100)"
      ],
      "metadata": {
        "id": "v0A2OkmqjST_"
      },
      "execution_count": null,
      "outputs": []
    },
    {
      "cell_type": "code",
      "execution_count": null,
      "metadata": {
        "id": "oCMitqCAH0DD"
      },
      "outputs": [],
      "source": [
        "x_test = test_data\n",
        "y_test = test_label[:,0]"
      ]
    },
    {
      "cell_type": "code",
      "execution_count": null,
      "metadata": {
        "id": "BbJRYNjtjAA-"
      },
      "outputs": [],
      "source": [
        "lol"
      ]
    },
    {
      "cell_type": "code",
      "execution_count": null,
      "metadata": {
        "id": "3V3d8Y7A9MgH"
      },
      "outputs": [],
      "source": []
    },
    {
      "cell_type": "code",
      "execution_count": null,
      "metadata": {
        "id": "lDlV6oDEL0KB"
      },
      "outputs": [],
      "source": [
        "!pip install shap"
      ]
    },
    {
      "cell_type": "code",
      "execution_count": null,
      "metadata": {
        "id": "uzgfscXri4sE"
      },
      "outputs": [],
      "source": [
        "import shap\n",
        "explainer = shap.DeepExplainer(model,[test_data[:50,i] for i in range(5)])\n",
        "shap.initjs()"
      ]
    },
    {
      "cell_type": "code",
      "source": [],
      "metadata": {
        "id": "1Y2Zq4TNFxVe"
      },
      "execution_count": null,
      "outputs": []
    },
    {
      "cell_type": "code",
      "execution_count": null,
      "metadata": {
        "id": "KJayLg6dujtt"
      },
      "outputs": [],
      "source": [
        "shap_value = explainer.shap_values([test_data[:1,i] for i in range(5)])\n",
        "shap_value = np.squeeze(np.asarray(shap_value))"
      ]
    },
    {
      "cell_type": "code",
      "source": [],
      "metadata": {
        "id": "-KcZYqmHJkmt"
      },
      "execution_count": null,
      "outputs": []
    },
    {
      "cell_type": "code",
      "execution_count": null,
      "metadata": {
        "id": "_Axpywm_yukp"
      },
      "outputs": [],
      "source": [
        "shap_value.shape"
      ]
    },
    {
      "cell_type": "code",
      "execution_count": null,
      "metadata": {
        "id": "sXqFkBkcmcYf"
      },
      "outputs": [],
      "source": []
    },
    {
      "cell_type": "code",
      "execution_count": null,
      "metadata": {
        "id": "aVdK200FUc_t"
      },
      "outputs": [],
      "source": [
        "shap.summary_plot(shap_value[1])"
      ]
    },
    {
      "cell_type": "code",
      "execution_count": null,
      "metadata": {
        "id": "2O9s7WV-6vpJ"
      },
      "outputs": [],
      "source": [
        "test_data.shape"
      ]
    },
    {
      "cell_type": "code",
      "execution_count": null,
      "metadata": {
        "id": "josevmPN6qs3"
      },
      "outputs": [],
      "source": [
        "shap_value.shape"
      ]
    },
    {
      "cell_type": "code",
      "source": [
        "test_data.shape"
      ],
      "metadata": {
        "id": "cqp9ZC37n0_C"
      },
      "execution_count": null,
      "outputs": []
    },
    {
      "cell_type": "code",
      "execution_count": null,
      "metadata": {
        "id": "AcjqRJs4iK_l"
      },
      "outputs": [],
      "source": [
        "for i in range(5):\n",
        "  # shap.image_plot([shap_value[0,:,:,i:i+1],shap_value[1,:,:,i:i+1]],test_data[0,:,:,i:i+1])\n",
        "  shap.image_plot(shap_value[1,:,:,i:i+1],test_data[0,i,:,:,0])\n",
        "  # shap.image_plot(shap_value[0,:,:,i:i+1],test_data[0,:,:,i:i+1])"
      ]
    },
    {
      "cell_type": "code",
      "execution_count": null,
      "metadata": {
        "id": "TfXVbe3dJNuf"
      },
      "outputs": [],
      "source": [
        "shap_value.shape"
      ]
    },
    {
      "cell_type": "code",
      "execution_count": null,
      "metadata": {
        "id": "wVq48USCKb2e"
      },
      "outputs": [],
      "source": [
        "explainer"
      ]
    },
    {
      "cell_type": "code",
      "execution_count": null,
      "metadata": {
        "id": "5bDlWtRYF78h"
      },
      "outputs": [],
      "source": [
        "shap.initjs()\n",
        "shap.force_plot(explainer.expected_value[0],shap_value[0,:,:,0])"
      ]
    }
  ],
  "metadata": {
    "accelerator": "GPU",
    "colab": {
      "provenance": [],
      "include_colab_link": true
    },
    "kernelspec": {
      "display_name": "Python 3",
      "name": "python3"
    },
    "language_info": {
      "name": "python"
    }
  },
  "nbformat": 4,
  "nbformat_minor": 0
}